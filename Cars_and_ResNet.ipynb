{
  "nbformat": 4,
  "nbformat_minor": 0,
  "metadata": {
    "colab": {
      "name": "Cars and ResNet.ipynb",
      "provenance": [],
      "collapsed_sections": []
    },
    "kernelspec": {
      "name": "python3",
      "display_name": "Python 3"
    },
    "language_info": {
      "name": "python"
    },
    "accelerator": "GPU"
  },
  "cells": [
    {
      "cell_type": "code",
      "execution_count": 1,
      "metadata": {
        "colab": {
          "base_uri": "https://localhost:8080/"
        },
        "id": "n6OQM0YDJfij",
        "outputId": "0eb4c8ac-c044-4e8a-e65b-ebc0d27ef4b0"
      },
      "outputs": [
        {
          "output_type": "stream",
          "name": "stdout",
          "text": [
            "Mounted at /content/drive\n"
          ]
        }
      ],
      "source": [
        "from google.colab import drive\n",
        "drive.mount('/content/drive')\n",
        "\n",
        "import sys\n",
        "sys.path.append('/content/drive/MyDrive/Colab Notebooks')\n",
        "\n",
        "# from IPython.core.debugger import set_trace\n",
        "# set_trace()"
      ]
    },
    {
      "cell_type": "code",
      "source": [
        "%load_ext autoreload\n",
        "%autoreload 2"
      ],
      "metadata": {
        "id": "pFuhfFVBj5In"
      },
      "execution_count": 50,
      "outputs": []
    },
    {
      "cell_type": "code",
      "source": [
        "import os\n",
        "import zipfile\n",
        "import time\n",
        "from PIL import Image"
      ],
      "metadata": {
        "id": "2P9Fxrp-Dc_x"
      },
      "execution_count": 2,
      "outputs": []
    },
    {
      "cell_type": "code",
      "source": [
        "pathToZip = '/content/drive/MyDrive/DataSets/Cars/RefactoredCars.zip'\n",
        "\n",
        "z = zipfile.ZipFile(pathToZip, 'r')\n",
        "z.extractall('/content/sample_data/')"
      ],
      "metadata": {
        "id": "FeoIi9oMDgV-"
      },
      "execution_count": 3,
      "outputs": []
    },
    {
      "cell_type": "code",
      "source": [
        "import torch\n",
        "import torch.nn as nn\n",
        "import torch.optim as optim\n",
        "from torch.utils.data import DataLoader\n",
        "from torch.utils.data import sampler\n",
        "\n",
        "import torchvision.datasets as dset\n",
        "import torchvision.transforms as T\n",
        "\n",
        "import matplotlib.pyplot as plt\n",
        "\n",
        "import os\n",
        "\n",
        "USE_GPU = True\n",
        "dtype = torch.float32 # We will be using float throughout this tutorial.\n",
        "\n",
        "if USE_GPU and torch.cuda.is_available():\n",
        "  device = torch.device('cuda')\n",
        "else:\n",
        "  device = torch.device('cpu')\n",
        "\n",
        "print(device)"
      ],
      "metadata": {
        "colab": {
          "base_uri": "https://localhost:8080/"
        },
        "id": "nxBZWxFTLhzG",
        "outputId": "b46f32ae-1703-470c-c5a8-e8fa2665133f"
      },
      "execution_count": 4,
      "outputs": [
        {
          "output_type": "stream",
          "name": "stdout",
          "text": [
            "cuda\n"
          ]
        }
      ]
    },
    {
      "cell_type": "code",
      "source": [
        "# Define transforms for dataset\n",
        "\n",
        "trainTransforms = T.Compose([\n",
        "    T.ToTensor(),\n",
        "    T.Normalize(mean=(0.4914, 0.4822, 0.4465), std=(0.2023, 0.1994, 0.2010)),\n",
        "    T.RandomHorizontalFlip(),\n",
        "    T.RandomApply([T.RandomResizedCrop(224, scale=(0.8, 1.0))], p=0.3)\n",
        "])\n",
        "\n",
        "validTransforms = T.Compose([\n",
        "    T.ToTensor(),\n",
        "    T.Normalize(mean=(0.4914, 0.4822, 0.4465), std=(0.2023, 0.1994, 0.2010))\n",
        "])\n",
        "\n",
        "testTransforms = T.Compose([\n",
        "    T.ToTensor(),\n",
        "    T.Normalize(mean=(0.4914, 0.4822, 0.4465), std=(0.2023, 0.1994, 0.2010))\n",
        "])"
      ],
      "metadata": {
        "id": "iHWbM1eqLoH_"
      },
      "execution_count": 5,
      "outputs": []
    },
    {
      "cell_type": "code",
      "source": [
        "# Loading dataset\n",
        "rootPath = '/content/sample_data/'\n",
        "trainPath = os.path.join(rootPath, 'TrainImages')\n",
        "testPath = os.path.join(rootPath, 'TestImages')\n",
        "validPath = os.path.join(rootPath, 'ValidImages')\n",
        "\n",
        "if not (os.path.exists(trainPath) and os.path.exists(testPath) and os.path.exists(validPath)):\n",
        "  print('Could not find dataset')\n",
        "\n",
        "trainSet = dset.ImageFolder(trainPath, trainTransforms)\n",
        "validSet = dset.ImageFolder(validPath, validTransforms)\n",
        "testSet = dset.ImageFolder(testPath, testTransforms)"
      ],
      "metadata": {
        "id": "dewIu4ZVLrrD"
      },
      "execution_count": 9,
      "outputs": []
    },
    {
      "cell_type": "code",
      "source": [
        "x, y = trainSet[8000]\n",
        "# print(len(trainSet))\n",
        "\n",
        "className = list(trainSet.class_to_idx.keys())[list(trainSet.class_to_idx.values()).index(y)] # Get name of class\n",
        "plt.title(className)\n",
        "plt.imshow(x.permute(1, 2, 0))\n",
        "print('image size - ', x.shape)\n",
        "print('Num_classes - ', len(trainSet.class_to_idx))"
      ],
      "metadata": {
        "colab": {
          "base_uri": "https://localhost:8080/",
          "height": 331
        },
        "id": "oFecvWrWNWEP",
        "outputId": "bf4a8e81-74d2-42a0-a6c6-627378b0c69b"
      },
      "execution_count": 12,
      "outputs": [
        {
          "output_type": "stream",
          "name": "stderr",
          "text": [
            "Clipping input data to the valid range for imshow with RGB data ([0..1] for floats or [0..255] for integers).\n"
          ]
        },
        {
          "output_type": "stream",
          "name": "stdout",
          "text": [
            "image size -  torch.Size([3, 224, 224])\n",
            "Num_classes -  196\n"
          ]
        },
        {
          "output_type": "display_data",
          "data": {
            "image/png": "[encoded data removed]",
            "text/plain": [
              "<Figure size 432x288 with 1 Axes>"
            ]
          },
          "metadata": {
            "needs_background": "light"
          }
        }
      ]
    },
    {
      "cell_type": "code",
      "source": [
        "trainLoader = DataLoader(trainSet, batch_size=32, sampler=sampler.SubsetRandomSampler(range(0, trainSet.__len__())))\n",
        "validLoader = DataLoader(validSet, batch_size=32, sampler=sampler.SubsetRandomSampler(range(0, validSet.__len__())))\n",
        "testLoader = DataLoader(testSet, batch_size=32)"
      ],
      "metadata": {
        "id": "mgzdFF5sNiDE"
      },
      "execution_count": 14,
      "outputs": []
    },
    {
      "cell_type": "code",
      "source": [
        "\"\"\"\n",
        "ResNet from this paper Deep Residual Learning for Image Recognition https://arxiv.org/pdf/1512.03385.pdf\n",
        "\"\"\"\n",
        "\n",
        "\n",
        "\n",
        "class resNetBlock(nn.Module):\n",
        "\n",
        "    def __init__(self, in_channels, out_channels, identity_downsample=None, stride=1):\n",
        "        super().__init__()\n",
        "\n",
        "        self.expansion = 4\n",
        "        self.identity_downsample = identity_downsample\n",
        "\n",
        "        self.conv1 = nn.Conv2d(in_channels=in_channels, out_channels=out_channels, kernel_size=1, stride=1, padding=0)\n",
        "        self.batchNorm1 = nn.BatchNorm2d(out_channels)\n",
        "        self.conv2 = nn.Conv2d(in_channels=out_channels, out_channels=out_channels, kernel_size=3, stride=stride, padding=1)\n",
        "        self.batchNorm2 = nn.BatchNorm2d(out_channels)\n",
        "        self.conv3 = nn.Conv2d(in_channels=out_channels, out_channels= self.expansion*out_channels, kernel_size=1, stride=1, padding=0)\n",
        "        self.batchNorm3 = nn.BatchNorm2d(out_channels * self.expansion)\n",
        "        self.relu = nn.ReLU()\n",
        "\n",
        "    def forward(self, x):\n",
        "\n",
        "        identity = x\n",
        "\n",
        "        x = self.conv1(x)\n",
        "        x = self.batchNorm1(x)\n",
        "        x = self.relu(x)\n",
        "        x = self.conv2(x)\n",
        "        x = self.batchNorm2(x)\n",
        "        x = self.relu(x)\n",
        "        x = self.conv3(x)\n",
        "        x = self.batchNorm3(x)\n",
        "\n",
        "        if self.identity_downsample is not None:\n",
        "            identity = self.identity_downsample(identity)\n",
        "\n",
        "        x += identity\n",
        "        x = self.relu(x)\n",
        "\n",
        "        return x\n",
        "\n",
        "\n",
        "class ResNet(nn.Module):\n",
        "\n",
        "    def __init__(self, block, layers, image_channels, num_classes):\n",
        "        super().__init__()\n",
        "        self.in_channels = 64\n",
        "\n",
        "        self.conv1 = nn.Conv2d(in_channels=image_channels, out_channels=64, kernel_size=7, stride=2, padding=3)\n",
        "        self.batchNorm1 = nn.BatchNorm2d(64)\n",
        "        self.relu = nn.ReLU()\n",
        "        self.pool1 = nn.MaxPool2d(kernel_size=3, stride=2, padding=1)\n",
        "\n",
        "\n",
        "        self.layer1 = self._make_layers(block, layers[0], out_channels=64, stride = 1)\n",
        "        self.layer2 = self._make_layers(block, layers[1], out_channels=128, stride = 2)\n",
        "        self.layer3 = self._make_layers(block, layers[2], out_channels=256, stride = 2)\n",
        "        self.layer4 = self._make_layers(block, layers[3], out_channels=512, stride = 2)\n",
        "\n",
        "        self.pool2 = nn.AdaptiveAvgPool2d((1, 1))\n",
        "        self.fc = nn.Linear(2048, num_classes)\n",
        "\n",
        "    def forward(self, x):\n",
        "\n",
        "        x = self.conv1(x)\n",
        "        x = self.batchNorm1(x)\n",
        "        x = self.relu(x)\n",
        "        x = self.pool1(x)\n",
        "\n",
        "        x = self.layer1(x)\n",
        "        x = self.layer2(x)\n",
        "        x = self.layer3(x)\n",
        "        x = self.layer4(x)\n",
        "\n",
        "        x = self.pool2(x)\n",
        "        x = x.reshape(x.shape[0], -1)\n",
        "        x = self.fc(x)\n",
        "\n",
        "        return x\n",
        "\n",
        "\n",
        "\n",
        "    def _make_layers(self, block, num_residual_blocks, out_channels, stride):\n",
        "\n",
        "        identity_downsample = None\n",
        "        layers = []\n",
        "\n",
        "        if stride != 1 or self.in_channels != 4 * out_channels: # Если шаг ведёт к понижению размерности или итоговые каналы не совпадают с изначальными\n",
        "            identity_downsample = nn.Sequential(nn.Conv2d(self.in_channels, out_channels * 4, kernel_size=1, stride=stride), # то нужен метод приведения к одной размерности\n",
        "                                                nn.BatchNorm2d(out_channels * 4)\n",
        "                                                )\n",
        "            \n",
        "        layers.append(block(self.in_channels, out_channels, identity_downsample, stride))\n",
        "        self.in_channels = out_channels * 4\n",
        "\n",
        "        for i in range(num_residual_blocks - 1):\n",
        "            layers.append(block(self.in_channels, out_channels))\n",
        "\n",
        "        return nn.Sequential(*layers)\n",
        "\n",
        "\n",
        "def create_ResNet50(img_channels=3, num_classes=1000):\n",
        "    return ResNet(resNetBlock, [3, 4, 6, 3], img_channels, num_classes)\n",
        "\n",
        "def create_ResNet152(img_channels=3, num_classes=1000):\n",
        "    return ResNet(resNetBlock, [3, 8, 36, 3], img_channels, num_classes)\n",
        "\n",
        "\n",
        "def test(net):\n",
        "    x = torch.randn(2, 3, 224, 224)\n",
        "    y = net(x).to('cuda')\n",
        "    print(y.shape)"
      ],
      "metadata": {
        "id": "UEeSOemWqCUh"
      },
      "execution_count": 16,
      "outputs": []
    },
    {
      "cell_type": "code",
      "source": [
        "model = create_ResNet152(num_classes=196)\n",
        "test(model)\n",
        "\n",
        "optimizer = optim.Adam(model.parameters(), lr=0.001)"
      ],
      "metadata": {
        "colab": {
          "base_uri": "https://localhost:8080/"
        },
        "id": "VMd5vhogZ397",
        "outputId": "40e8c519-0cd3-492e-83c2-3574ece5792a"
      },
      "execution_count": 40,
      "outputs": [
        {
          "output_type": "stream",
          "name": "stdout",
          "text": [
            "torch.Size([2, 196])\n"
          ]
        }
      ]
    },
    {
      "cell_type": "code",
      "source": [
        "def overfit_model(model, optimizer, dataLoader, num_epoch=1, device=torch.device('cpu')):\n",
        "\n",
        "    import torch.nn.functional as F\n",
        "\n",
        "    model = model.to(device=device)\n",
        "\n",
        "    x, y = next(iter(dataLoader))\n",
        "    x = x.to(device=device, dtype=torch.float32)\n",
        "    y = y.to(device=device, dtype=torch.long)\n",
        "\n",
        "    for e in range(num_epoch):\n",
        "\n",
        "        model.train()\n",
        "        scores = model(x)\n",
        "        loss = F.cross_entropy(scores, y)\n",
        "        optimizer.zero_grad()\n",
        "        loss.backward()\n",
        "        optimizer.step()\n",
        "\n",
        "\n",
        "        num_samples = 0\n",
        "        num_correct = 0\n",
        "\n",
        "        with torch.no_grad():\n",
        "            \n",
        "            _, preds = scores.max(1)\n",
        "\n",
        "            num_samples += preds.shape[0]\n",
        "            num_correct += (preds == y).sum()\n",
        "\n",
        "        acc = float(num_correct) / num_samples\n",
        "        print('Epoch %d, got %.2f percent accuracy'% (e, acc * 100))"
      ],
      "metadata": {
        "id": "De2Vxf99a3EP"
      },
      "execution_count": 32,
      "outputs": []
    },
    {
      "cell_type": "code",
      "source": [
        "overfit_model(model, optimizer, trainLoader, 25, device)"
      ],
      "metadata": {
        "colab": {
          "base_uri": "https://localhost:8080/"
        },
        "id": "ZgNqmAYhdTqz",
        "outputId": "b42defbf-05fb-4926-8cf8-41687099dc68"
      },
      "execution_count": 41,
      "outputs": [
        {
          "output_type": "stream",
          "name": "stdout",
          "text": [
            "Epoch 0, got 0.00 percent accuracy\n",
            "Epoch 1, got 12.50 percent accuracy\n",
            "Epoch 2, got 25.00 percent accuracy\n",
            "Epoch 3, got 34.38 percent accuracy\n",
            "Epoch 4, got 53.12 percent accuracy\n",
            "Epoch 5, got 50.00 percent accuracy\n",
            "Epoch 6, got 65.62 percent accuracy\n",
            "Epoch 7, got 65.62 percent accuracy\n",
            "Epoch 8, got 50.00 percent accuracy\n",
            "Epoch 9, got 84.38 percent accuracy\n",
            "Epoch 10, got 71.88 percent accuracy\n",
            "Epoch 11, got 90.62 percent accuracy\n",
            "Epoch 12, got 87.50 percent accuracy\n",
            "Epoch 13, got 90.62 percent accuracy\n",
            "Epoch 14, got 100.00 percent accuracy\n",
            "Epoch 15, got 96.88 percent accuracy\n",
            "Epoch 16, got 100.00 percent accuracy\n",
            "Epoch 17, got 100.00 percent accuracy\n",
            "Epoch 18, got 100.00 percent accuracy\n",
            "Epoch 19, got 100.00 percent accuracy\n",
            "Epoch 20, got 100.00 percent accuracy\n",
            "Epoch 21, got 100.00 percent accuracy\n",
            "Epoch 22, got 100.00 percent accuracy\n",
            "Epoch 23, got 100.00 percent accuracy\n",
            "Epoch 24, got 100.00 percent accuracy\n"
          ]
        }
      ]
    },
    {
      "cell_type": "code",
      "source": [
        "import FunctionsForNets as myFunc"
      ],
      "metadata": {
        "id": "oEEOI7Ckf6dK"
      },
      "execution_count": 51,
      "outputs": []
    },
    {
      "cell_type": "code",
      "source": [
        "myFunc.train_model(model, optimizer, trainLoader, validLoader, num_epoch=20, device=device, savePath='/content/drive/MyDrive/CarsModels')"
      ],
      "metadata": {
        "colab": {
          "base_uri": "https://localhost:8080/",
          "height": 589
        },
        "id": "7aqUFkCDf8y2",
        "outputId": "0b5199ca-49db-4cde-d8e4-0410bdac9dd7"
      },
      "execution_count": 55,
      "outputs": [
        {
          "output_type": "stream",
          "name": "stdout",
          "text": [
            "Starting new training\n",
            "Start 0 epoch\n",
            "Got 94 / 8144 correct (1.15) in train\n",
            "Got 43 / 4020 correct (1.07) in validation\n",
            "Goten new best val accuracy. Save new best model\n",
            "Start 1 epoch\n",
            "Got 113 / 8144 correct (1.39) in train\n",
            "Got 55 / 4020 correct (1.37) in validation\n",
            "Goten new best val accuracy. Save new best model\n",
            "Start 2 epoch\n",
            "Got 113 / 8144 correct (1.39) in train\n",
            "Got 48 / 4020 correct (1.19) in validation\n",
            "Start 3 epoch\n",
            "Got 132 / 8144 correct (1.62) in train\n",
            "Got 53 / 4020 correct (1.32) in validation\n",
            "Start 4 epoch\n"
          ]
        },
        {
          "output_type": "error",
          "ename": "KeyboardInterrupt",
          "evalue": "ignored",
          "traceback": [
            "\u001b[0;31m---------------------------------------------------------------------------\u001b[0m",
            "\u001b[0;31mKeyboardInterrupt\u001b[0m                         Traceback (most recent call last)",
            "\u001b[0;32m<ipython-input-55-333014dc703f>\u001b[0m in \u001b[0;36m<module>\u001b[0;34m()\u001b[0m\n\u001b[0;32m----> 1\u001b[0;31m \u001b[0mmyFunc\u001b[0m\u001b[0;34m.\u001b[0m\u001b[0mtrain_model\u001b[0m\u001b[0;34m(\u001b[0m\u001b[0mmodel\u001b[0m\u001b[0;34m,\u001b[0m \u001b[0moptimizer\u001b[0m\u001b[0;34m,\u001b[0m \u001b[0mtrainLoader\u001b[0m\u001b[0;34m,\u001b[0m \u001b[0mvalidLoader\u001b[0m\u001b[0;34m,\u001b[0m \u001b[0mnum_epoch\u001b[0m\u001b[0;34m=\u001b[0m\u001b[0;36m20\u001b[0m\u001b[0;34m,\u001b[0m \u001b[0mdevice\u001b[0m\u001b[0;34m=\u001b[0m\u001b[0mdevice\u001b[0m\u001b[0;34m,\u001b[0m \u001b[0msavePath\u001b[0m\u001b[0;34m=\u001b[0m\u001b[0;34m'/content/drive/MyDrive/CarsModels'\u001b[0m\u001b[0;34m)\u001b[0m\u001b[0;34m\u001b[0m\u001b[0;34m\u001b[0m\u001b[0m\n\u001b[0m",
            "\u001b[0;32m/content/drive/MyDrive/Colab Notebooks/FunctionsForNets.py\u001b[0m in \u001b[0;36mtrain_model\u001b[0;34m(model, optimizer, trainLoader, validationLoader, num_epoch, device, printAndSaveEvery, continueTraining, savePath)\u001b[0m\n\u001b[1;32m     69\u001b[0m       \u001b[0my\u001b[0m \u001b[0;34m=\u001b[0m \u001b[0my\u001b[0m\u001b[0;34m.\u001b[0m\u001b[0mto\u001b[0m\u001b[0;34m(\u001b[0m\u001b[0mdevice\u001b[0m\u001b[0;34m=\u001b[0m\u001b[0mdevice\u001b[0m\u001b[0;34m,\u001b[0m \u001b[0mdtype\u001b[0m\u001b[0;34m=\u001b[0m\u001b[0mtorch\u001b[0m\u001b[0;34m.\u001b[0m\u001b[0mlong\u001b[0m\u001b[0;34m)\u001b[0m\u001b[0;34m\u001b[0m\u001b[0;34m\u001b[0m\u001b[0m\n\u001b[1;32m     70\u001b[0m \u001b[0;34m\u001b[0m\u001b[0m\n\u001b[0;32m---> 71\u001b[0;31m       \u001b[0mscores\u001b[0m \u001b[0;34m=\u001b[0m \u001b[0mmodel\u001b[0m\u001b[0;34m(\u001b[0m\u001b[0mx\u001b[0m\u001b[0;34m)\u001b[0m\u001b[0;34m\u001b[0m\u001b[0;34m\u001b[0m\u001b[0m\n\u001b[0m\u001b[1;32m     72\u001b[0m       \u001b[0mloss\u001b[0m \u001b[0;34m=\u001b[0m \u001b[0mF\u001b[0m\u001b[0;34m.\u001b[0m\u001b[0mcross_entropy\u001b[0m\u001b[0;34m(\u001b[0m\u001b[0mscores\u001b[0m\u001b[0;34m,\u001b[0m \u001b[0my\u001b[0m\u001b[0;34m)\u001b[0m\u001b[0;34m\u001b[0m\u001b[0;34m\u001b[0m\u001b[0m\n\u001b[1;32m     73\u001b[0m \u001b[0;34m\u001b[0m\u001b[0m\n",
            "\u001b[0;32m/usr/local/lib/python3.7/dist-packages/torch/nn/modules/module.py\u001b[0m in \u001b[0;36m_call_impl\u001b[0;34m(self, *input, **kwargs)\u001b[0m\n\u001b[1;32m   1100\u001b[0m         if not (self._backward_hooks or self._forward_hooks or self._forward_pre_hooks or _global_backward_hooks\n\u001b[1;32m   1101\u001b[0m                 or _global_forward_hooks or _global_forward_pre_hooks):\n\u001b[0;32m-> 1102\u001b[0;31m             \u001b[0;32mreturn\u001b[0m \u001b[0mforward_call\u001b[0m\u001b[0;34m(\u001b[0m\u001b[0;34m*\u001b[0m\u001b[0minput\u001b[0m\u001b[0;34m,\u001b[0m \u001b[0;34m**\u001b[0m\u001b[0mkwargs\u001b[0m\u001b[0;34m)\u001b[0m\u001b[0;34m\u001b[0m\u001b[0;34m\u001b[0m\u001b[0m\n\u001b[0m\u001b[1;32m   1103\u001b[0m         \u001b[0;31m# Do not call functions when jit is used\u001b[0m\u001b[0;34m\u001b[0m\u001b[0;34m\u001b[0m\u001b[0;34m\u001b[0m\u001b[0m\n\u001b[1;32m   1104\u001b[0m         \u001b[0mfull_backward_hooks\u001b[0m\u001b[0;34m,\u001b[0m \u001b[0mnon_full_backward_hooks\u001b[0m \u001b[0;34m=\u001b[0m \u001b[0;34m[\u001b[0m\u001b[0;34m]\u001b[0m\u001b[0;34m,\u001b[0m \u001b[0;34m[\u001b[0m\u001b[0;34m]\u001b[0m\u001b[0;34m\u001b[0m\u001b[0;34m\u001b[0m\u001b[0m\n",
            "\u001b[0;32m<ipython-input-16-18566f65428d>\u001b[0m in \u001b[0;36mforward\u001b[0;34m(self, x)\u001b[0m\n\u001b[1;32m     70\u001b[0m         \u001b[0mx\u001b[0m \u001b[0;34m=\u001b[0m \u001b[0mself\u001b[0m\u001b[0;34m.\u001b[0m\u001b[0mpool1\u001b[0m\u001b[0;34m(\u001b[0m\u001b[0mx\u001b[0m\u001b[0;34m)\u001b[0m\u001b[0;34m\u001b[0m\u001b[0;34m\u001b[0m\u001b[0m\n\u001b[1;32m     71\u001b[0m \u001b[0;34m\u001b[0m\u001b[0m\n\u001b[0;32m---> 72\u001b[0;31m         \u001b[0mx\u001b[0m \u001b[0;34m=\u001b[0m \u001b[0mself\u001b[0m\u001b[0;34m.\u001b[0m\u001b[0mlayer1\u001b[0m\u001b[0;34m(\u001b[0m\u001b[0mx\u001b[0m\u001b[0;34m)\u001b[0m\u001b[0;34m\u001b[0m\u001b[0;34m\u001b[0m\u001b[0m\n\u001b[0m\u001b[1;32m     73\u001b[0m         \u001b[0mx\u001b[0m \u001b[0;34m=\u001b[0m \u001b[0mself\u001b[0m\u001b[0;34m.\u001b[0m\u001b[0mlayer2\u001b[0m\u001b[0;34m(\u001b[0m\u001b[0mx\u001b[0m\u001b[0;34m)\u001b[0m\u001b[0;34m\u001b[0m\u001b[0;34m\u001b[0m\u001b[0m\n\u001b[1;32m     74\u001b[0m         \u001b[0mx\u001b[0m \u001b[0;34m=\u001b[0m \u001b[0mself\u001b[0m\u001b[0;34m.\u001b[0m\u001b[0mlayer3\u001b[0m\u001b[0;34m(\u001b[0m\u001b[0mx\u001b[0m\u001b[0;34m)\u001b[0m\u001b[0;34m\u001b[0m\u001b[0;34m\u001b[0m\u001b[0m\n",
            "\u001b[0;32m/usr/local/lib/python3.7/dist-packages/torch/nn/modules/module.py\u001b[0m in \u001b[0;36m_call_impl\u001b[0;34m(self, *input, **kwargs)\u001b[0m\n\u001b[1;32m   1100\u001b[0m         if not (self._backward_hooks or self._forward_hooks or self._forward_pre_hooks or _global_backward_hooks\n\u001b[1;32m   1101\u001b[0m                 or _global_forward_hooks or _global_forward_pre_hooks):\n\u001b[0;32m-> 1102\u001b[0;31m             \u001b[0;32mreturn\u001b[0m \u001b[0mforward_call\u001b[0m\u001b[0;34m(\u001b[0m\u001b[0;34m*\u001b[0m\u001b[0minput\u001b[0m\u001b[0;34m,\u001b[0m \u001b[0;34m**\u001b[0m\u001b[0mkwargs\u001b[0m\u001b[0;34m)\u001b[0m\u001b[0;34m\u001b[0m\u001b[0;34m\u001b[0m\u001b[0m\n\u001b[0m\u001b[1;32m   1103\u001b[0m         \u001b[0;31m# Do not call functions when jit is used\u001b[0m\u001b[0;34m\u001b[0m\u001b[0;34m\u001b[0m\u001b[0;34m\u001b[0m\u001b[0m\n\u001b[1;32m   1104\u001b[0m         \u001b[0mfull_backward_hooks\u001b[0m\u001b[0;34m,\u001b[0m \u001b[0mnon_full_backward_hooks\u001b[0m \u001b[0;34m=\u001b[0m \u001b[0;34m[\u001b[0m\u001b[0;34m]\u001b[0m\u001b[0;34m,\u001b[0m \u001b[0;34m[\u001b[0m\u001b[0;34m]\u001b[0m\u001b[0;34m\u001b[0m\u001b[0;34m\u001b[0m\u001b[0m\n",
            "\u001b[0;32m/usr/local/lib/python3.7/dist-packages/torch/nn/modules/container.py\u001b[0m in \u001b[0;36mforward\u001b[0;34m(self, input)\u001b[0m\n\u001b[1;32m    139\u001b[0m     \u001b[0;32mdef\u001b[0m \u001b[0mforward\u001b[0m\u001b[0;34m(\u001b[0m\u001b[0mself\u001b[0m\u001b[0;34m,\u001b[0m \u001b[0minput\u001b[0m\u001b[0;34m)\u001b[0m\u001b[0;34m:\u001b[0m\u001b[0;34m\u001b[0m\u001b[0;34m\u001b[0m\u001b[0m\n\u001b[1;32m    140\u001b[0m         \u001b[0;32mfor\u001b[0m \u001b[0mmodule\u001b[0m \u001b[0;32min\u001b[0m \u001b[0mself\u001b[0m\u001b[0;34m:\u001b[0m\u001b[0;34m\u001b[0m\u001b[0;34m\u001b[0m\u001b[0m\n\u001b[0;32m--> 141\u001b[0;31m             \u001b[0minput\u001b[0m \u001b[0;34m=\u001b[0m \u001b[0mmodule\u001b[0m\u001b[0;34m(\u001b[0m\u001b[0minput\u001b[0m\u001b[0;34m)\u001b[0m\u001b[0;34m\u001b[0m\u001b[0;34m\u001b[0m\u001b[0m\n\u001b[0m\u001b[1;32m    142\u001b[0m         \u001b[0;32mreturn\u001b[0m \u001b[0minput\u001b[0m\u001b[0;34m\u001b[0m\u001b[0;34m\u001b[0m\u001b[0m\n\u001b[1;32m    143\u001b[0m \u001b[0;34m\u001b[0m\u001b[0m\n",
            "\u001b[0;32m/usr/local/lib/python3.7/dist-packages/torch/nn/modules/module.py\u001b[0m in \u001b[0;36m_call_impl\u001b[0;34m(self, *input, **kwargs)\u001b[0m\n\u001b[1;32m   1100\u001b[0m         if not (self._backward_hooks or self._forward_hooks or self._forward_pre_hooks or _global_backward_hooks\n\u001b[1;32m   1101\u001b[0m                 or _global_forward_hooks or _global_forward_pre_hooks):\n\u001b[0;32m-> 1102\u001b[0;31m             \u001b[0;32mreturn\u001b[0m \u001b[0mforward_call\u001b[0m\u001b[0;34m(\u001b[0m\u001b[0;34m*\u001b[0m\u001b[0minput\u001b[0m\u001b[0;34m,\u001b[0m \u001b[0;34m**\u001b[0m\u001b[0mkwargs\u001b[0m\u001b[0;34m)\u001b[0m\u001b[0;34m\u001b[0m\u001b[0;34m\u001b[0m\u001b[0m\n\u001b[0m\u001b[1;32m   1103\u001b[0m         \u001b[0;31m# Do not call functions when jit is used\u001b[0m\u001b[0;34m\u001b[0m\u001b[0;34m\u001b[0m\u001b[0;34m\u001b[0m\u001b[0m\n\u001b[1;32m   1104\u001b[0m         \u001b[0mfull_backward_hooks\u001b[0m\u001b[0;34m,\u001b[0m \u001b[0mnon_full_backward_hooks\u001b[0m \u001b[0;34m=\u001b[0m \u001b[0;34m[\u001b[0m\u001b[0;34m]\u001b[0m\u001b[0;34m,\u001b[0m \u001b[0;34m[\u001b[0m\u001b[0;34m]\u001b[0m\u001b[0;34m\u001b[0m\u001b[0;34m\u001b[0m\u001b[0m\n",
            "\u001b[0;32m<ipython-input-16-18566f65428d>\u001b[0m in \u001b[0;36mforward\u001b[0;34m(self, x)\u001b[0m\n\u001b[1;32m     26\u001b[0m \u001b[0;34m\u001b[0m\u001b[0m\n\u001b[1;32m     27\u001b[0m         \u001b[0mx\u001b[0m \u001b[0;34m=\u001b[0m \u001b[0mself\u001b[0m\u001b[0;34m.\u001b[0m\u001b[0mconv1\u001b[0m\u001b[0;34m(\u001b[0m\u001b[0mx\u001b[0m\u001b[0;34m)\u001b[0m\u001b[0;34m\u001b[0m\u001b[0;34m\u001b[0m\u001b[0m\n\u001b[0;32m---> 28\u001b[0;31m         \u001b[0mx\u001b[0m \u001b[0;34m=\u001b[0m \u001b[0mself\u001b[0m\u001b[0;34m.\u001b[0m\u001b[0mbatchNorm1\u001b[0m\u001b[0;34m(\u001b[0m\u001b[0mx\u001b[0m\u001b[0;34m)\u001b[0m\u001b[0;34m\u001b[0m\u001b[0;34m\u001b[0m\u001b[0m\n\u001b[0m\u001b[1;32m     29\u001b[0m         \u001b[0mx\u001b[0m \u001b[0;34m=\u001b[0m \u001b[0mself\u001b[0m\u001b[0;34m.\u001b[0m\u001b[0mrelu\u001b[0m\u001b[0;34m(\u001b[0m\u001b[0mx\u001b[0m\u001b[0;34m)\u001b[0m\u001b[0;34m\u001b[0m\u001b[0;34m\u001b[0m\u001b[0m\n\u001b[1;32m     30\u001b[0m         \u001b[0mx\u001b[0m \u001b[0;34m=\u001b[0m \u001b[0mself\u001b[0m\u001b[0;34m.\u001b[0m\u001b[0mconv2\u001b[0m\u001b[0;34m(\u001b[0m\u001b[0mx\u001b[0m\u001b[0;34m)\u001b[0m\u001b[0;34m\u001b[0m\u001b[0;34m\u001b[0m\u001b[0m\n",
            "\u001b[0;32m/usr/local/lib/python3.7/dist-packages/torch/nn/modules/module.py\u001b[0m in \u001b[0;36m_call_impl\u001b[0;34m(self, *input, **kwargs)\u001b[0m\n\u001b[1;32m   1100\u001b[0m         if not (self._backward_hooks or self._forward_hooks or self._forward_pre_hooks or _global_backward_hooks\n\u001b[1;32m   1101\u001b[0m                 or _global_forward_hooks or _global_forward_pre_hooks):\n\u001b[0;32m-> 1102\u001b[0;31m             \u001b[0;32mreturn\u001b[0m \u001b[0mforward_call\u001b[0m\u001b[0;34m(\u001b[0m\u001b[0;34m*\u001b[0m\u001b[0minput\u001b[0m\u001b[0;34m,\u001b[0m \u001b[0;34m**\u001b[0m\u001b[0mkwargs\u001b[0m\u001b[0;34m)\u001b[0m\u001b[0;34m\u001b[0m\u001b[0;34m\u001b[0m\u001b[0m\n\u001b[0m\u001b[1;32m   1103\u001b[0m         \u001b[0;31m# Do not call functions when jit is used\u001b[0m\u001b[0;34m\u001b[0m\u001b[0;34m\u001b[0m\u001b[0;34m\u001b[0m\u001b[0m\n\u001b[1;32m   1104\u001b[0m         \u001b[0mfull_backward_hooks\u001b[0m\u001b[0;34m,\u001b[0m \u001b[0mnon_full_backward_hooks\u001b[0m \u001b[0;34m=\u001b[0m \u001b[0;34m[\u001b[0m\u001b[0;34m]\u001b[0m\u001b[0;34m,\u001b[0m \u001b[0;34m[\u001b[0m\u001b[0;34m]\u001b[0m\u001b[0;34m\u001b[0m\u001b[0;34m\u001b[0m\u001b[0m\n",
            "\u001b[0;32m/usr/local/lib/python3.7/dist-packages/torch/nn/modules/batchnorm.py\u001b[0m in \u001b[0;36mforward\u001b[0;34m(self, input)\u001b[0m\n\u001b[1;32m    146\u001b[0m             \u001b[0;31m# TODO: if statement only here to tell the jit to skip emitting this when it is None\u001b[0m\u001b[0;34m\u001b[0m\u001b[0;34m\u001b[0m\u001b[0;34m\u001b[0m\u001b[0m\n\u001b[1;32m    147\u001b[0m             \u001b[0;32mif\u001b[0m \u001b[0mself\u001b[0m\u001b[0;34m.\u001b[0m\u001b[0mnum_batches_tracked\u001b[0m \u001b[0;32mis\u001b[0m \u001b[0;32mnot\u001b[0m \u001b[0;32mNone\u001b[0m\u001b[0;34m:\u001b[0m  \u001b[0;31m# type: ignore[has-type]\u001b[0m\u001b[0;34m\u001b[0m\u001b[0;34m\u001b[0m\u001b[0m\n\u001b[0;32m--> 148\u001b[0;31m                 \u001b[0mself\u001b[0m\u001b[0;34m.\u001b[0m\u001b[0mnum_batches_tracked\u001b[0m \u001b[0;34m=\u001b[0m \u001b[0mself\u001b[0m\u001b[0;34m.\u001b[0m\u001b[0mnum_batches_tracked\u001b[0m \u001b[0;34m+\u001b[0m \u001b[0;36m1\u001b[0m  \u001b[0;31m# type: ignore[has-type]\u001b[0m\u001b[0;34m\u001b[0m\u001b[0;34m\u001b[0m\u001b[0m\n\u001b[0m\u001b[1;32m    149\u001b[0m                 \u001b[0;32mif\u001b[0m \u001b[0mself\u001b[0m\u001b[0;34m.\u001b[0m\u001b[0mmomentum\u001b[0m \u001b[0;32mis\u001b[0m \u001b[0;32mNone\u001b[0m\u001b[0;34m:\u001b[0m  \u001b[0;31m# use cumulative moving average\u001b[0m\u001b[0;34m\u001b[0m\u001b[0;34m\u001b[0m\u001b[0m\n\u001b[1;32m    150\u001b[0m                     \u001b[0mexponential_average_factor\u001b[0m \u001b[0;34m=\u001b[0m \u001b[0;36m1.0\u001b[0m \u001b[0;34m/\u001b[0m \u001b[0mfloat\u001b[0m\u001b[0;34m(\u001b[0m\u001b[0mself\u001b[0m\u001b[0;34m.\u001b[0m\u001b[0mnum_batches_tracked\u001b[0m\u001b[0;34m)\u001b[0m\u001b[0;34m\u001b[0m\u001b[0;34m\u001b[0m\u001b[0m\n",
            "\u001b[0;31mKeyboardInterrupt\u001b[0m: "
          ]
        }
      ]
    },
    {
      "cell_type": "code",
      "source": [
        "checkpoint = torch.load('/content/drive/MyDrive/CarsModels/best_model.pt')\n",
        "\n",
        "model.load_state_dict(checkpoint['Model_state_dict'])\n",
        "optimizer.load_state_dict(checkpoint['Optimizer_state_dict'])\n",
        "\n",
        "contTrain = {\n",
        "    'train_accs': checkpoint['Train_accs'],\n",
        "    'val_accs': checkpoint['Val_accs'],\n",
        "    'num_ep': checkpoint['Num_epoch']\n",
        "}\n",
        "train_acc, val_acc = myFunc.train_model(model, optimizer, trainLoader, validLoader, 10, device, \n",
        "                                 savePath='/content/drive/MyDrive/CarsModels', continueTraining=contTrain)"
      ],
      "metadata": {
        "colab": {
          "base_uri": "https://localhost:8080/"
        },
        "id": "9U6eia0BsUzz",
        "outputId": "129dbd79-8506-4156-e8c5-ca022b3e03a3"
      },
      "execution_count": 58,
      "outputs": [
        {
          "output_type": "stream",
          "name": "stdout",
          "text": [
            "Continue training from 4 epoch\n",
            "Start 4 epoch\n",
            "Got 59 / 3232 correct (1.83) in train\n",
            "Got 55 / 4020 correct (1.37) in validation\n",
            "Goten new best val accuracy. Save new best model\n",
            "Start 5 epoch\n",
            "Got 68 / 3232 correct (2.10) in train\n",
            "Got 59 / 4020 correct (1.47) in validation\n",
            "Goten new best val accuracy. Save new best model\n",
            "Start 6 epoch\n",
            "Got 73 / 3232 correct (2.26) in train\n",
            "Got 82 / 4020 correct (2.04) in validation\n",
            "Goten new best val accuracy. Save new best model\n",
            "Start 7 epoch\n",
            "Got 58 / 3232 correct (1.79) in train\n",
            "Got 54 / 4020 correct (1.34) in validation\n",
            "Start 8 epoch\n",
            "Got 109 / 3232 correct (3.37) in train\n",
            "Got 120 / 4020 correct (2.99) in validation\n",
            "Goten new best val accuracy. Save new best model\n",
            "Start 9 epoch\n",
            "Got 109 / 3232 correct (3.37) in train\n",
            "Got 95 / 4020 correct (2.36) in validation\n"
          ]
        }
      ]
    },
    {
      "cell_type": "code",
      "source": [
        "checkpoint = torch.load('/content/drive/MyDrive/CarsModels/best_model.pt')\n",
        "\n",
        "model.load_state_dict(checkpoint['Model_state_dict'])\n",
        "optimizer.load_state_dict(checkpoint['Optimizer_state_dict'])\n",
        "\n",
        "contTrain = {\n",
        "    'train_accs': checkpoint['Train_accs'],\n",
        "    'val_accs': checkpoint['Val_accs'],\n",
        "    'num_ep': checkpoint['Num_epoch']\n",
        "}\n",
        "train_acc, val_acc = myFunc.train_model(model, optimizer, trainLoader, validLoader, 20, device, \n",
        "                                 savePath='/content/drive/MyDrive/CarsModels', continueTraining=contTrain)"
      ],
      "metadata": {
        "colab": {
          "base_uri": "https://localhost:8080/"
        },
        "id": "L_VXGKJyzmUS",
        "outputId": "1f825380-d546-481e-cbb0-299bb850f237"
      },
      "execution_count": 59,
      "outputs": [
        {
          "output_type": "stream",
          "name": "stdout",
          "text": [
            "Continue training from 10 epoch\n",
            "Start 10 epoch\n",
            "Got 125 / 3232 correct (3.87) in train\n",
            "Got 131 / 4020 correct (3.26) in validation\n",
            "Goten new best val accuracy. Save new best model\n",
            "Start 11 epoch\n",
            "Got 139 / 3232 correct (4.30) in train\n",
            "Got 138 / 4020 correct (3.43) in validation\n",
            "Goten new best val accuracy. Save new best model\n",
            "Start 12 epoch\n",
            "Got 62 / 3232 correct (1.92) in train\n",
            "Got 92 / 4020 correct (2.29) in validation\n",
            "Start 13 epoch\n",
            "Got 217 / 3232 correct (6.71) in train\n",
            "Got 178 / 4020 correct (4.43) in validation\n",
            "Goten new best val accuracy. Save new best model\n",
            "Start 14 epoch\n",
            "Got 266 / 3232 correct (8.23) in train\n",
            "Got 233 / 4020 correct (5.80) in validation\n",
            "Goten new best val accuracy. Save new best model\n",
            "Start 15 epoch\n",
            "Got 276 / 3232 correct (8.54) in train\n",
            "Got 243 / 4020 correct (6.04) in validation\n",
            "Goten new best val accuracy. Save new best model\n",
            "Start 16 epoch\n",
            "Got 315 / 3232 correct (9.75) in train\n",
            "Got 254 / 4020 correct (6.32) in validation\n",
            "Goten new best val accuracy. Save new best model\n",
            "Start 17 epoch\n",
            "Got 374 / 3232 correct (11.57) in train\n",
            "Got 332 / 4020 correct (8.26) in validation\n",
            "Goten new best val accuracy. Save new best model\n",
            "Start 18 epoch\n",
            "Got 354 / 3232 correct (10.95) in train\n",
            "Got 260 / 4020 correct (6.47) in validation\n",
            "Start 19 epoch\n",
            "Got 532 / 3232 correct (16.46) in train\n",
            "Got 374 / 4020 correct (9.30) in validation\n",
            "Goten new best val accuracy. Save new best model\n"
          ]
        }
      ]
    },
    {
      "cell_type": "code",
      "source": [
        "checkpoint = torch.load('/content/drive/MyDrive/CarsModels/best_model.pt')\n",
        "optimizer = optim.Adam(model.parameters(), lr=0.001, weight_decay=1e-5)\n",
        "\n",
        "model.load_state_dict(checkpoint['Model_state_dict'])\n",
        "optimizer.load_state_dict(checkpoint['Optimizer_state_dict'])\n",
        "\n",
        "contTrain = {\n",
        "    'train_accs': checkpoint['Train_accs'],\n",
        "    'val_accs': checkpoint['Val_accs'],\n",
        "    'num_ep': checkpoint['Num_epoch']\n",
        "}\n",
        "train_acc, val_acc = myFunc.train_model(model, optimizer, trainLoader, validLoader, 25, device, \n",
        "                                 savePath='/content/drive/MyDrive/CarsModels', continueTraining=contTrain)"
      ],
      "metadata": {
        "colab": {
          "base_uri": "https://localhost:8080/"
        },
        "id": "dVdW4LEL-mfz",
        "outputId": "52a3ce93-8538-48ef-9cee-0c38c96dd48c"
      },
      "execution_count": 61,
      "outputs": [
        {
          "output_type": "stream",
          "name": "stdout",
          "text": [
            "Continue training from 19 epoch\n",
            "Start 19 epoch\n",
            "Got 560 / 3232 correct (17.33) in train\n",
            "Got 407 / 4020 correct (10.12) in validation\n",
            "Goten new best val accuracy. Save new best model\n",
            "Start 20 epoch\n",
            "Got 594 / 3232 correct (18.38) in train\n",
            "Got 486 / 4020 correct (12.09) in validation\n",
            "Goten new best val accuracy. Save new best model\n",
            "Start 21 epoch\n",
            "Got 715 / 3232 correct (22.12) in train\n",
            "Got 587 / 4020 correct (14.60) in validation\n",
            "Goten new best val accuracy. Save new best model\n",
            "Start 22 epoch\n",
            "Got 900 / 3232 correct (27.85) in train\n",
            "Got 588 / 4020 correct (14.63) in validation\n",
            "Goten new best val accuracy. Save new best model\n",
            "Start 23 epoch\n",
            "Got 1262 / 3232 correct (39.05) in train\n",
            "Got 862 / 4020 correct (21.44) in validation\n",
            "Goten new best val accuracy. Save new best model\n",
            "Start 24 epoch\n",
            "Got 1450 / 3232 correct (44.86) in train\n",
            "Got 1000 / 4020 correct (24.88) in validation\n",
            "Goten new best val accuracy. Save new best model\n"
          ]
        }
      ]
    },
    {
      "cell_type": "code",
      "source": [
        "checkpoint = torch.load('/content/drive/MyDrive/CarsModels/model.pt')\n",
        "optimizer = optim.Adam(model.parameters(), lr=0.001, weight_decay=1e-4)\n",
        "\n",
        "model.load_state_dict(checkpoint['Model_state_dict'])\n",
        "optimizer.load_state_dict(checkpoint['Optimizer_state_dict'])\n",
        "\n",
        "contTrain = {\n",
        "    'train_accs': checkpoint['Train_accs'],\n",
        "    'val_accs': checkpoint['Val_accs'],\n",
        "    'num_ep': checkpoint['Num_epoch']\n",
        "}\n",
        "train_acc, val_acc = myFunc.train_model(model, optimizer, trainLoader, validLoader, 30, device, \n",
        "                                 savePath='/content/drive/MyDrive/CarsModels', continueTraining=contTrain)"
      ],
      "metadata": {
        "colab": {
          "base_uri": "https://localhost:8080/"
        },
        "id": "NCnKaFEOF63c",
        "outputId": "61deba0b-679e-4c6a-cf21-21f569031643"
      },
      "execution_count": 70,
      "outputs": [
        {
          "output_type": "stream",
          "name": "stdout",
          "text": [
            "Continue training from 25 epoch\n",
            "Start 25 epoch\n",
            "Got 1600 / 3232 correct (49.50) in train\n",
            "Got 1084 / 4020 correct (26.97) in validation\n",
            "Goten new best val accuracy. Save new best model\n",
            "Start 26 epoch\n",
            "Got 1665 / 3232 correct (51.52) in train\n",
            "Got 1184 / 4020 correct (29.45) in validation\n",
            "Goten new best val accuracy. Save new best model\n",
            "Start 27 epoch\n",
            "Got 1906 / 3232 correct (58.97) in train\n",
            "Got 1292 / 4020 correct (32.14) in validation\n",
            "Goten new best val accuracy. Save new best model\n",
            "Start 28 epoch\n",
            "Got 2065 / 3232 correct (63.89) in train\n",
            "Got 1371 / 4020 correct (34.10) in validation\n",
            "Goten new best val accuracy. Save new best model\n",
            "Start 29 epoch\n",
            "Got 2150 / 3232 correct (66.52) in train\n",
            "Got 1373 / 4020 correct (34.15) in validation\n",
            "Goten new best val accuracy. Save new best model\n"
          ]
        }
      ]
    },
    {
      "cell_type": "code",
      "source": [
        "checkpoint = torch.load('/content/drive/MyDrive/CarsModels/model.pt')\n",
        "optimizer = optim.Adam(model.parameters(), lr=0.001, weight_decay=1e-2)\n",
        "\n",
        "model.load_state_dict(checkpoint['Model_state_dict'])\n",
        "optimizer.load_state_dict(checkpoint['Optimizer_state_dict'])\n",
        "\n",
        "contTrain = {\n",
        "    'train_accs': checkpoint['Train_accs'],\n",
        "    'val_accs': checkpoint['Val_accs'],\n",
        "    'num_ep': checkpoint['Num_epoch']\n",
        "}\n",
        "train_acc, val_acc = myFunc.train_model(model, optimizer, trainLoader, validLoader, 35, device, \n",
        "                                 savePath='/content/drive/MyDrive/CarsModels', continueTraining=contTrain)"
      ],
      "metadata": {
        "colab": {
          "base_uri": "https://localhost:8080/"
        },
        "id": "-5CYn2AlNA-l",
        "outputId": "f9fd9cd8-6449-4353-fc01-59df449ed997"
      },
      "execution_count": 72,
      "outputs": [
        {
          "output_type": "stream",
          "name": "stdout",
          "text": [
            "Continue training from 30 epoch\n",
            "Start 30 epoch\n",
            "Got 2488 / 3232 correct (76.98) in train\n",
            "Got 1541 / 4020 correct (38.33) in validation\n",
            "Goten new best val accuracy. Save new best model\n",
            "Start 31 epoch\n",
            "Got 2411 / 3232 correct (74.60) in train\n",
            "Got 1514 / 4020 correct (37.66) in validation\n",
            "Start 32 epoch\n",
            "Got 2636 / 3232 correct (81.56) in train\n",
            "Got 1661 / 4020 correct (41.32) in validation\n",
            "Goten new best val accuracy. Save new best model\n",
            "Start 33 epoch\n",
            "Got 2607 / 3232 correct (80.66) in train\n",
            "Got 1689 / 4020 correct (42.01) in validation\n",
            "Goten new best val accuracy. Save new best model\n",
            "Start 34 epoch\n",
            "Got 2845 / 3232 correct (88.03) in train\n",
            "Got 1759 / 4020 correct (43.76) in validation\n",
            "Goten new best val accuracy. Save new best model\n"
          ]
        }
      ]
    },
    {
      "cell_type": "code",
      "source": [
        "myFunc.show_accuracy_history(train_acc, val_acc)"
      ],
      "metadata": {
        "colab": {
          "base_uri": "https://localhost:8080/",
          "height": 265
        },
        "id": "nBKVjtnrM4zR",
        "outputId": "ffb79c2c-75e0-4cd7-a520-269f9243465e"
      },
      "execution_count": 73,
      "outputs": [
        {
          "output_type": "display_data",
          "data": {
            "image/png": "[encoded data removed]",
            "text/plain": [
              "<Figure size 432x288 with 1 Axes>"
            ]
          },
          "metadata": {
            "needs_background": "light"
          }
        }
      ]
    }
  ]
}