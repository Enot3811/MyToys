{
  "nbformat": 4,
  "nbformat_minor": 0,
  "metadata": {
    "colab": {
      "name": "Cars and ResNet.ipynb",
      "provenance": [],
      "collapsed_sections": []
    },
    "kernelspec": {
      "name": "python3",
      "display_name": "Python 3"
    },
    "language_info": {
      "name": "python"
    },
    "accelerator": "GPU"
  },
  "cells": [
    {
      "cell_type": "code",
      "execution_count": 1,
      "metadata": {
        "colab": {
          "base_uri": "https://localhost:8080/"
        },
        "id": "n6OQM0YDJfij",
        "outputId": "ae5edca4-658a-4f8f-ee02-0b9e22cbc38b"
      },
      "outputs": [
        {
          "output_type": "stream",
          "name": "stdout",
          "text": [
            "Mounted at /content/drive\n"
          ]
        }
      ],
      "source": [
        "from google.colab import drive\n",
        "drive.mount('/content/drive')\n",
        "\n",
        "import sys\n",
        "sys.path.append('/content/drive/MyDrive/Colab Notebooks')\n",
        "\n",
        "# from IPython.core.debugger import set_trace\n",
        "# set_trace()"
      ]
    },
    {
      "cell_type": "code",
      "source": [
        "%load_ext autoreload\n",
        "%autoreload 2"
      ],
      "metadata": {
        "id": "pFuhfFVBj5In"
      },
      "execution_count": 2,
      "outputs": []
    },
    {
      "cell_type": "code",
      "source": [
        "import os\n",
        "import zipfile\n",
        "import time\n",
        "from PIL import Image"
      ],
      "metadata": {
        "id": "2P9Fxrp-Dc_x"
      },
      "execution_count": 3,
      "outputs": []
    },
    {
      "cell_type": "code",
      "source": [
        "pathToZip = '/content/drive/MyDrive/DataSets/Cars/RefactoredCars.zip'\n",
        "\n",
        "z = zipfile.ZipFile(pathToZip, 'r')\n",
        "z.extractall('/content/sample_data/')"
      ],
      "metadata": {
        "id": "FeoIi9oMDgV-"
      },
      "execution_count": 4,
      "outputs": []
    },
    {
      "cell_type": "code",
      "source": [
        "import torch\n",
        "import torch.nn as nn\n",
        "import torch.optim as optim\n",
        "from torch.utils.data import DataLoader\n",
        "from torch.utils.data import sampler\n",
        "\n",
        "import torchvision.datasets as dset\n",
        "import torchvision.transforms as T\n",
        "\n",
        "import matplotlib.pyplot as plt\n",
        "\n",
        "import os\n",
        "\n",
        "import FunctionsForNets as myFunc\n",
        "\n",
        "USE_GPU = True\n",
        "dtype = torch.float32 # We will be using float throughout this tutorial.\n",
        "\n",
        "if USE_GPU and torch.cuda.is_available():\n",
        "  device = torch.device('cuda')\n",
        "else:\n",
        "  device = torch.device('cpu')\n",
        "\n",
        "print(device)"
      ],
      "metadata": {
        "colab": {
          "base_uri": "https://localhost:8080/"
        },
        "id": "nxBZWxFTLhzG",
        "outputId": "04b4a867-aaa6-4054-ddd7-a2011f2dd77b"
      },
      "execution_count": 11,
      "outputs": [
        {
          "output_type": "stream",
          "name": "stdout",
          "text": [
            "cuda\n"
          ]
        }
      ]
    },
    {
      "cell_type": "code",
      "source": [
        "# Define transforms for dataset\n",
        "\n",
        "trainTransforms = T.Compose([\n",
        "    T.ToTensor(),\n",
        "    T.Normalize(mean=(0.4914, 0.4822, 0.4465), std=(0.2023, 0.1994, 0.2010)),\n",
        "    T.RandomHorizontalFlip(),\n",
        "    T.RandomApply([T.RandomResizedCrop(224, scale=(0.8, 1.0))], p=0.3)\n",
        "])\n",
        "\n",
        "validTransforms = T.Compose([\n",
        "    T.ToTensor(),\n",
        "    T.Normalize(mean=(0.4914, 0.4822, 0.4465), std=(0.2023, 0.1994, 0.2010))\n",
        "])\n",
        "\n",
        "testTransforms = T.Compose([\n",
        "    T.ToTensor(),\n",
        "    T.Normalize(mean=(0.4914, 0.4822, 0.4465), std=(0.2023, 0.1994, 0.2010))\n",
        "])"
      ],
      "metadata": {
        "id": "iHWbM1eqLoH_"
      },
      "execution_count": 6,
      "outputs": []
    },
    {
      "cell_type": "code",
      "source": [
        "# Loading dataset\n",
        "rootPath = '/content/sample_data/'\n",
        "trainPath = os.path.join(rootPath, 'TrainImages')\n",
        "testPath = os.path.join(rootPath, 'TestImages')\n",
        "validPath = os.path.join(rootPath, 'ValidImages')\n",
        "\n",
        "if not (os.path.exists(trainPath) and os.path.exists(testPath) and os.path.exists(validPath)):\n",
        "  print('Could not find dataset')\n",
        "\n",
        "trainSet = dset.ImageFolder(trainPath, trainTransforms)\n",
        "validSet = dset.ImageFolder(validPath, validTransforms)\n",
        "testSet = dset.ImageFolder(testPath, testTransforms)"
      ],
      "metadata": {
        "id": "dewIu4ZVLrrD"
      },
      "execution_count": 7,
      "outputs": []
    },
    {
      "cell_type": "code",
      "source": [
        "x, y = trainSet[8000]\n",
        "# print(len(trainSet))\n",
        "\n",
        "className = list(trainSet.class_to_idx.keys())[list(trainSet.class_to_idx.values()).index(y)] # Get name of class\n",
        "plt.title(className)\n",
        "plt.imshow(x.permute(1, 2, 0))\n",
        "print('image size - ', x.shape)\n",
        "print('Num_classes - ', len(trainSet.class_to_idx))"
      ],
      "metadata": {
        "colab": {
          "base_uri": "https://localhost:8080/",
          "height": 331
        },
        "id": "oFecvWrWNWEP",
        "outputId": "1b8b340b-9a41-4b06-8bb1-de5a9f495db1"
      },
      "execution_count": 8,
      "outputs": [
        {
          "output_type": "stream",
          "name": "stderr",
          "text": [
            "Clipping input data to the valid range for imshow with RGB data ([0..1] for floats or [0..255] for integers).\n"
          ]
        },
        {
          "output_type": "stream",
          "name": "stdout",
          "text": [
            "image size -  torch.Size([3, 224, 224])\n",
            "Num_classes -  196\n"
          ]
        },
        {
          "output_type": "display_data",
          "data": {
            "image/png": "[encoded data removed]",
            "text/plain": [
              "<Figure size 432x288 with 1 Axes>"
            ]
          },
          "metadata": {
            "needs_background": "light"
          }
        }
      ]
    },
    {
      "cell_type": "code",
      "source": [
        "trainLoader = DataLoader(trainSet, batch_size=32, sampler=sampler.SubsetRandomSampler(range(0, trainSet.__len__())))\n",
        "validLoader = DataLoader(validSet, batch_size=32, sampler=sampler.SubsetRandomSampler(range(0, validSet.__len__())))\n",
        "testLoader = DataLoader(testSet, batch_size=32)"
      ],
      "metadata": {
        "id": "mgzdFF5sNiDE"
      },
      "execution_count": 9,
      "outputs": []
    },
    {
      "cell_type": "code",
      "source": [
        "\"\"\"\n",
        "ResNet from this paper Deep Residual Learning for Image Recognition https://arxiv.org/pdf/1512.03385.pdf\n",
        "\"\"\"\n",
        "\n",
        "\n",
        "\n",
        "class resNetBlock(nn.Module):\n",
        "\n",
        "    def __init__(self, in_channels, out_channels, identity_downsample=None, stride=1):\n",
        "        super().__init__()\n",
        "\n",
        "        self.expansion = 4\n",
        "        self.identity_downsample = identity_downsample\n",
        "\n",
        "        self.conv1 = nn.Conv2d(in_channels=in_channels, out_channels=out_channels, kernel_size=1, stride=1, padding=0)\n",
        "        self.batchNorm1 = nn.BatchNorm2d(out_channels)\n",
        "        self.conv2 = nn.Conv2d(in_channels=out_channels, out_channels=out_channels, kernel_size=3, stride=stride, padding=1)\n",
        "        self.batchNorm2 = nn.BatchNorm2d(out_channels)\n",
        "        self.conv3 = nn.Conv2d(in_channels=out_channels, out_channels= self.expansion*out_channels, kernel_size=1, stride=1, padding=0)\n",
        "        self.batchNorm3 = nn.BatchNorm2d(out_channels * self.expansion)\n",
        "        self.relu = nn.ReLU()\n",
        "\n",
        "    def forward(self, x):\n",
        "\n",
        "        identity = x\n",
        "\n",
        "        x = self.conv1(x)\n",
        "        x = self.batchNorm1(x)\n",
        "        x = self.relu(x)\n",
        "        x = self.conv2(x)\n",
        "        x = self.batchNorm2(x)\n",
        "        x = self.relu(x)\n",
        "        x = self.conv3(x)\n",
        "        x = self.batchNorm3(x)\n",
        "\n",
        "        if self.identity_downsample is not None:\n",
        "            identity = self.identity_downsample(identity)\n",
        "\n",
        "        x += identity\n",
        "        x = self.relu(x)\n",
        "\n",
        "        return x\n",
        "\n",
        "\n",
        "class ResNet(nn.Module):\n",
        "\n",
        "    def __init__(self, block, layers, image_channels, num_classes):\n",
        "        super().__init__()\n",
        "        self.in_channels = 64\n",
        "\n",
        "        self.conv1 = nn.Conv2d(in_channels=image_channels, out_channels=64, kernel_size=7, stride=2, padding=3)\n",
        "        self.batchNorm1 = nn.BatchNorm2d(64)\n",
        "        self.relu = nn.ReLU()\n",
        "        self.pool1 = nn.MaxPool2d(kernel_size=3, stride=2, padding=1)\n",
        "\n",
        "\n",
        "        self.layer1 = self._make_layers(block, layers[0], out_channels=64, stride = 1)\n",
        "        self.layer2 = self._make_layers(block, layers[1], out_channels=128, stride = 2)\n",
        "        self.layer3 = self._make_layers(block, layers[2], out_channels=256, stride = 2)\n",
        "        self.layer4 = self._make_layers(block, layers[3], out_channels=512, stride = 2)\n",
        "\n",
        "        self.pool2 = nn.AdaptiveAvgPool2d((1, 1))\n",
        "        self.fc = nn.Linear(2048, num_classes)\n",
        "\n",
        "    def forward(self, x):\n",
        "\n",
        "        x = self.conv1(x)\n",
        "        x = self.batchNorm1(x)\n",
        "        x = self.relu(x)\n",
        "        x = self.pool1(x)\n",
        "\n",
        "        x = self.layer1(x)\n",
        "        x = self.layer2(x)\n",
        "        x = self.layer3(x)\n",
        "        x = self.layer4(x)\n",
        "\n",
        "        x = self.pool2(x)\n",
        "        x = x.reshape(x.shape[0], -1)\n",
        "        x = self.fc(x)\n",
        "\n",
        "        return x\n",
        "\n",
        "\n",
        "\n",
        "    def _make_layers(self, block, num_residual_blocks, out_channels, stride):\n",
        "\n",
        "        identity_downsample = None\n",
        "        layers = []\n",
        "\n",
        "        if stride != 1 or self.in_channels != 4 * out_channels: # Если шаг ведёт к понижению размерности или итоговые каналы не совпадают с изначальными\n",
        "            identity_downsample = nn.Sequential(nn.Conv2d(self.in_channels, out_channels * 4, kernel_size=1, stride=stride), # то нужен метод приведения к одной размерности\n",
        "                                                nn.BatchNorm2d(out_channels * 4)\n",
        "                                                )\n",
        "            \n",
        "        layers.append(block(self.in_channels, out_channels, identity_downsample, stride))\n",
        "        self.in_channels = out_channels * 4\n",
        "\n",
        "        for i in range(num_residual_blocks - 1):\n",
        "            layers.append(block(self.in_channels, out_channels))\n",
        "\n",
        "        return nn.Sequential(*layers)\n",
        "\n",
        "\n",
        "def create_ResNet50(img_channels=3, num_classes=1000):\n",
        "    return ResNet(resNetBlock, [3, 4, 6, 3], img_channels, num_classes)\n",
        "\n",
        "def create_ResNet152(img_channels=3, num_classes=1000):\n",
        "    return ResNet(resNetBlock, [3, 8, 36, 3], img_channels, num_classes)\n",
        "\n",
        "\n",
        "def test(net):\n",
        "    x = torch.randn(2, 3, 224, 224)\n",
        "    y = net(x).to('cuda')\n",
        "    print(y.shape)"
      ],
      "metadata": {
        "id": "UEeSOemWqCUh"
      },
      "execution_count": 10,
      "outputs": []
    },
    {
      "cell_type": "code",
      "source": [
        "def overfit_model(model, optimizer, dataLoader, num_epoch=1, device=torch.device('cpu')):\n",
        "\n",
        "    import torch.nn.functional as F\n",
        "\n",
        "    model = model.to(device=device)\n",
        "\n",
        "    x, y = next(iter(dataLoader))\n",
        "    x = x.to(device=device, dtype=torch.float32)\n",
        "    y = y.to(device=device, dtype=torch.long)\n",
        "\n",
        "    for e in range(num_epoch):\n",
        "\n",
        "        model.train()\n",
        "        scores = model(x)\n",
        "        loss = F.cross_entropy(scores, y)\n",
        "        optimizer.zero_grad()\n",
        "        loss.backward()\n",
        "        optimizer.step()\n",
        "\n",
        "\n",
        "        num_samples = 0\n",
        "        num_correct = 0\n",
        "\n",
        "        with torch.no_grad():\n",
        "            \n",
        "            _, preds = scores.max(1)\n",
        "\n",
        "            num_samples += preds.shape[0]\n",
        "            num_correct += (preds == y).sum()\n",
        "\n",
        "        acc = float(num_correct) / num_samples\n",
        "        print('Epoch %d, got %.2f percent accuracy'% (e, acc * 100))"
      ],
      "metadata": {
        "id": "De2Vxf99a3EP"
      },
      "execution_count": 12,
      "outputs": []
    },
    {
      "cell_type": "code",
      "source": [
        "model = create_ResNet152(num_classes=196)\n",
        "test(model)\n",
        "\n",
        "optimizer = optim.Adam(model.parameters(), lr=0.001)"
      ],
      "metadata": {
        "colab": {
          "base_uri": "https://localhost:8080/"
        },
        "id": "VMd5vhogZ397",
        "outputId": "40e8c519-0cd3-492e-83c2-3574ece5792a"
      },
      "execution_count": null,
      "outputs": [
        {
          "output_type": "stream",
          "name": "stdout",
          "text": [
            "torch.Size([2, 196])\n"
          ]
        }
      ]
    },
    {
      "cell_type": "code",
      "source": [
        "overfit_model(model, optimizer, trainLoader, 25, device)"
      ],
      "metadata": {
        "colab": {
          "base_uri": "https://localhost:8080/"
        },
        "id": "ZgNqmAYhdTqz",
        "outputId": "b42defbf-05fb-4926-8cf8-41687099dc68"
      },
      "execution_count": null,
      "outputs": [
        {
          "output_type": "stream",
          "name": "stdout",
          "text": [
            "Epoch 0, got 0.00 percent accuracy\n",
            "Epoch 1, got 12.50 percent accuracy\n",
            "Epoch 2, got 25.00 percent accuracy\n",
            "Epoch 3, got 34.38 percent accuracy\n",
            "Epoch 4, got 53.12 percent accuracy\n",
            "Epoch 5, got 50.00 percent accuracy\n",
            "Epoch 6, got 65.62 percent accuracy\n",
            "Epoch 7, got 65.62 percent accuracy\n",
            "Epoch 8, got 50.00 percent accuracy\n",
            "Epoch 9, got 84.38 percent accuracy\n",
            "Epoch 10, got 71.88 percent accuracy\n",
            "Epoch 11, got 90.62 percent accuracy\n",
            "Epoch 12, got 87.50 percent accuracy\n",
            "Epoch 13, got 90.62 percent accuracy\n",
            "Epoch 14, got 100.00 percent accuracy\n",
            "Epoch 15, got 96.88 percent accuracy\n",
            "Epoch 16, got 100.00 percent accuracy\n",
            "Epoch 17, got 100.00 percent accuracy\n",
            "Epoch 18, got 100.00 percent accuracy\n",
            "Epoch 19, got 100.00 percent accuracy\n",
            "Epoch 20, got 100.00 percent accuracy\n",
            "Epoch 21, got 100.00 percent accuracy\n",
            "Epoch 22, got 100.00 percent accuracy\n",
            "Epoch 23, got 100.00 percent accuracy\n",
            "Epoch 24, got 100.00 percent accuracy\n"
          ]
        }
      ]
    },
    {
      "cell_type": "code",
      "source": [
        "myFunc.train_model(model, optimizer, trainLoader, validLoader, num_epoch=20, device=device, savePath='/content/drive/MyDrive/CarsModels')"
      ],
      "metadata": {
        "colab": {
          "base_uri": "https://localhost:8080/",
          "height": 572
        },
        "id": "7aqUFkCDf8y2",
        "outputId": "0b5199ca-49db-4cde-d8e4-0410bdac9dd7"
      },
      "execution_count": null,
      "outputs": [
        {
          "output_type": "stream",
          "name": "stdout",
          "text": [
            "Starting new training\n",
            "Start 0 epoch\n",
            "Got 94 / 8144 correct (1.15) in train\n",
            "Got 43 / 4020 correct (1.07) in validation\n",
            "Goten new best val accuracy. Save new best model\n",
            "Start 1 epoch\n",
            "Got 113 / 8144 correct (1.39) in train\n",
            "Got 55 / 4020 correct (1.37) in validation\n",
            "Goten new best val accuracy. Save new best model\n",
            "Start 2 epoch\n",
            "Got 113 / 8144 correct (1.39) in train\n",
            "Got 48 / 4020 correct (1.19) in validation\n",
            "Start 3 epoch\n",
            "Got 132 / 8144 correct (1.62) in train\n",
            "Got 53 / 4020 correct (1.32) in validation\n",
            "Start 4 epoch\n"
          ]
        },
        {
          "output_type": "error",
          "ename": "KeyboardInterrupt",
          "evalue": "ignored",
          "traceback": [
            "\u001b[0;31m---------------------------------------------------------------------------\u001b[0m",
            "\u001b[0;31mKeyboardInterrupt\u001b[0m                         Traceback (most recent call last)",
            "\u001b[0;32m<ipython-input-55-333014dc703f>\u001b[0m in \u001b[0;36m<module>\u001b[0;34m()\u001b[0m\n\u001b[0;32m----> 1\u001b[0;31m \u001b[0mmyFunc\u001b[0m\u001b[0;34m.\u001b[0m\u001b[0mtrain_model\u001b[0m\u001b[0;34m(\u001b[0m\u001b[0mmodel\u001b[0m\u001b[0;34m,\u001b[0m \u001b[0moptimizer\u001b[0m\u001b[0;34m,\u001b[0m \u001b[0mtrainLoader\u001b[0m\u001b[0;34m,\u001b[0m \u001b[0mvalidLoader\u001b[0m\u001b[0;34m,\u001b[0m \u001b[0mnum_epoch\u001b[0m\u001b[0;34m=\u001b[0m\u001b[0;36m20\u001b[0m\u001b[0;34m,\u001b[0m \u001b[0mdevice\u001b[0m\u001b[0;34m=\u001b[0m\u001b[0mdevice\u001b[0m\u001b[0;34m,\u001b[0m \u001b[0msavePath\u001b[0m\u001b[0;34m=\u001b[0m\u001b[0;34m'/content/drive/MyDrive/CarsModels'\u001b[0m\u001b[0;34m)\u001b[0m\u001b[0;34m\u001b[0m\u001b[0;34m\u001b[0m\u001b[0m\n\u001b[0m",
            "\u001b[0;32m/content/drive/MyDrive/Colab Notebooks/FunctionsForNets.py\u001b[0m in \u001b[0;36mtrain_model\u001b[0;34m(model, optimizer, trainLoader, validationLoader, num_epoch, device, printAndSaveEvery, continueTraining, savePath)\u001b[0m\n\u001b[1;32m     69\u001b[0m       \u001b[0my\u001b[0m \u001b[0;34m=\u001b[0m \u001b[0my\u001b[0m\u001b[0;34m.\u001b[0m\u001b[0mto\u001b[0m\u001b[0;34m(\u001b[0m\u001b[0mdevice\u001b[0m\u001b[0;34m=\u001b[0m\u001b[0mdevice\u001b[0m\u001b[0;34m,\u001b[0m \u001b[0mdtype\u001b[0m\u001b[0;34m=\u001b[0m\u001b[0mtorch\u001b[0m\u001b[0;34m.\u001b[0m\u001b[0mlong\u001b[0m\u001b[0;34m)\u001b[0m\u001b[0;34m\u001b[0m\u001b[0;34m\u001b[0m\u001b[0m\n\u001b[1;32m     70\u001b[0m \u001b[0;34m\u001b[0m\u001b[0m\n\u001b[0;32m---> 71\u001b[0;31m       \u001b[0mscores\u001b[0m \u001b[0;34m=\u001b[0m \u001b[0mmodel\u001b[0m\u001b[0;34m(\u001b[0m\u001b[0mx\u001b[0m\u001b[0;34m)\u001b[0m\u001b[0;34m\u001b[0m\u001b[0;34m\u001b[0m\u001b[0m\n\u001b[0m\u001b[1;32m     72\u001b[0m       \u001b[0mloss\u001b[0m \u001b[0;34m=\u001b[0m \u001b[0mF\u001b[0m\u001b[0;34m.\u001b[0m\u001b[0mcross_entropy\u001b[0m\u001b[0;34m(\u001b[0m\u001b[0mscores\u001b[0m\u001b[0;34m,\u001b[0m \u001b[0my\u001b[0m\u001b[0;34m)\u001b[0m\u001b[0;34m\u001b[0m\u001b[0;34m\u001b[0m\u001b[0m\n\u001b[1;32m     73\u001b[0m \u001b[0;34m\u001b[0m\u001b[0m\n",
            "\u001b[0;32m/usr/local/lib/python3.7/dist-packages/torch/nn/modules/module.py\u001b[0m in \u001b[0;36m_call_impl\u001b[0;34m(self, *input, **kwargs)\u001b[0m\n\u001b[1;32m   1100\u001b[0m         if not (self._backward_hooks or self._forward_hooks or self._forward_pre_hooks or _global_backward_hooks\n\u001b[1;32m   1101\u001b[0m                 or _global_forward_hooks or _global_forward_pre_hooks):\n\u001b[0;32m-> 1102\u001b[0;31m             \u001b[0;32mreturn\u001b[0m \u001b[0mforward_call\u001b[0m\u001b[0;34m(\u001b[0m\u001b[0;34m*\u001b[0m\u001b[0minput\u001b[0m\u001b[0;34m,\u001b[0m \u001b[0;34m**\u001b[0m\u001b[0mkwargs\u001b[0m\u001b[0;34m)\u001b[0m\u001b[0;34m\u001b[0m\u001b[0;34m\u001b[0m\u001b[0m\n\u001b[0m\u001b[1;32m   1103\u001b[0m         \u001b[0;31m# Do not call functions when jit is used\u001b[0m\u001b[0;34m\u001b[0m\u001b[0;34m\u001b[0m\u001b[0;34m\u001b[0m\u001b[0m\n\u001b[1;32m   1104\u001b[0m         \u001b[0mfull_backward_hooks\u001b[0m\u001b[0;34m,\u001b[0m \u001b[0mnon_full_backward_hooks\u001b[0m \u001b[0;34m=\u001b[0m \u001b[0;34m[\u001b[0m\u001b[0;34m]\u001b[0m\u001b[0;34m,\u001b[0m \u001b[0;34m[\u001b[0m\u001b[0;34m]\u001b[0m\u001b[0;34m\u001b[0m\u001b[0;34m\u001b[0m\u001b[0m\n",
            "\u001b[0;32m<ipython-input-16-18566f65428d>\u001b[0m in \u001b[0;36mforward\u001b[0;34m(self, x)\u001b[0m\n\u001b[1;32m     70\u001b[0m         \u001b[0mx\u001b[0m \u001b[0;34m=\u001b[0m \u001b[0mself\u001b[0m\u001b[0;34m.\u001b[0m\u001b[0mpool1\u001b[0m\u001b[0;34m(\u001b[0m\u001b[0mx\u001b[0m\u001b[0;34m)\u001b[0m\u001b[0;34m\u001b[0m\u001b[0;34m\u001b[0m\u001b[0m\n\u001b[1;32m     71\u001b[0m \u001b[0;34m\u001b[0m\u001b[0m\n\u001b[0;32m---> 72\u001b[0;31m         \u001b[0mx\u001b[0m \u001b[0;34m=\u001b[0m \u001b[0mself\u001b[0m\u001b[0;34m.\u001b[0m\u001b[0mlayer1\u001b[0m\u001b[0;34m(\u001b[0m\u001b[0mx\u001b[0m\u001b[0;34m)\u001b[0m\u001b[0;34m\u001b[0m\u001b[0;34m\u001b[0m\u001b[0m\n\u001b[0m\u001b[1;32m     73\u001b[0m         \u001b[0mx\u001b[0m \u001b[0;34m=\u001b[0m \u001b[0mself\u001b[0m\u001b[0;34m.\u001b[0m\u001b[0mlayer2\u001b[0m\u001b[0;34m(\u001b[0m\u001b[0mx\u001b[0m\u001b[0;34m)\u001b[0m\u001b[0;34m\u001b[0m\u001b[0;34m\u001b[0m\u001b[0m\n\u001b[1;32m     74\u001b[0m         \u001b[0mx\u001b[0m \u001b[0;34m=\u001b[0m \u001b[0mself\u001b[0m\u001b[0;34m.\u001b[0m\u001b[0mlayer3\u001b[0m\u001b[0;34m(\u001b[0m\u001b[0mx\u001b[0m\u001b[0;34m)\u001b[0m\u001b[0;34m\u001b[0m\u001b[0;34m\u001b[0m\u001b[0m\n",
            "\u001b[0;32m/usr/local/lib/python3.7/dist-packages/torch/nn/modules/module.py\u001b[0m in \u001b[0;36m_call_impl\u001b[0;34m(self, *input, **kwargs)\u001b[0m\n\u001b[1;32m   1100\u001b[0m         if not (self._backward_hooks or self._forward_hooks or self._forward_pre_hooks or _global_backward_hooks\n\u001b[1;32m   1101\u001b[0m                 or _global_forward_hooks or _global_forward_pre_hooks):\n\u001b[0;32m-> 1102\u001b[0;31m             \u001b[0;32mreturn\u001b[0m \u001b[0mforward_call\u001b[0m\u001b[0;34m(\u001b[0m\u001b[0;34m*\u001b[0m\u001b[0minput\u001b[0m\u001b[0;34m,\u001b[0m \u001b[0;34m**\u001b[0m\u001b[0mkwargs\u001b[0m\u001b[0;34m)\u001b[0m\u001b[0;34m\u001b[0m\u001b[0;34m\u001b[0m\u001b[0m\n\u001b[0m\u001b[1;32m   1103\u001b[0m         \u001b[0;31m# Do not call functions when jit is used\u001b[0m\u001b[0;34m\u001b[0m\u001b[0;34m\u001b[0m\u001b[0;34m\u001b[0m\u001b[0m\n\u001b[1;32m   1104\u001b[0m         \u001b[0mfull_backward_hooks\u001b[0m\u001b[0;34m,\u001b[0m \u001b[0mnon_full_backward_hooks\u001b[0m \u001b[0;34m=\u001b[0m \u001b[0;34m[\u001b[0m\u001b[0;34m]\u001b[0m\u001b[0;34m,\u001b[0m \u001b[0;34m[\u001b[0m\u001b[0;34m]\u001b[0m\u001b[0;34m\u001b[0m\u001b[0;34m\u001b[0m\u001b[0m\n",
            "\u001b[0;32m/usr/local/lib/python3.7/dist-packages/torch/nn/modules/container.py\u001b[0m in \u001b[0;36mforward\u001b[0;34m(self, input)\u001b[0m\n\u001b[1;32m    139\u001b[0m     \u001b[0;32mdef\u001b[0m \u001b[0mforward\u001b[0m\u001b[0;34m(\u001b[0m\u001b[0mself\u001b[0m\u001b[0;34m,\u001b[0m \u001b[0minput\u001b[0m\u001b[0;34m)\u001b[0m\u001b[0;34m:\u001b[0m\u001b[0;34m\u001b[0m\u001b[0;34m\u001b[0m\u001b[0m\n\u001b[1;32m    140\u001b[0m         \u001b[0;32mfor\u001b[0m \u001b[0mmodule\u001b[0m \u001b[0;32min\u001b[0m \u001b[0mself\u001b[0m\u001b[0;34m:\u001b[0m\u001b[0;34m\u001b[0m\u001b[0;34m\u001b[0m\u001b[0m\n\u001b[0;32m--> 141\u001b[0;31m             \u001b[0minput\u001b[0m \u001b[0;34m=\u001b[0m \u001b[0mmodule\u001b[0m\u001b[0;34m(\u001b[0m\u001b[0minput\u001b[0m\u001b[0;34m)\u001b[0m\u001b[0;34m\u001b[0m\u001b[0;34m\u001b[0m\u001b[0m\n\u001b[0m\u001b[1;32m    142\u001b[0m         \u001b[0;32mreturn\u001b[0m \u001b[0minput\u001b[0m\u001b[0;34m\u001b[0m\u001b[0;34m\u001b[0m\u001b[0m\n\u001b[1;32m    143\u001b[0m \u001b[0;34m\u001b[0m\u001b[0m\n",
            "\u001b[0;32m/usr/local/lib/python3.7/dist-packages/torch/nn/modules/module.py\u001b[0m in \u001b[0;36m_call_impl\u001b[0;34m(self, *input, **kwargs)\u001b[0m\n\u001b[1;32m   1100\u001b[0m         if not (self._backward_hooks or self._forward_hooks or self._forward_pre_hooks or _global_backward_hooks\n\u001b[1;32m   1101\u001b[0m                 or _global_forward_hooks or _global_forward_pre_hooks):\n\u001b[0;32m-> 1102\u001b[0;31m             \u001b[0;32mreturn\u001b[0m \u001b[0mforward_call\u001b[0m\u001b[0;34m(\u001b[0m\u001b[0;34m*\u001b[0m\u001b[0minput\u001b[0m\u001b[0;34m,\u001b[0m \u001b[0;34m**\u001b[0m\u001b[0mkwargs\u001b[0m\u001b[0;34m)\u001b[0m\u001b[0;34m\u001b[0m\u001b[0;34m\u001b[0m\u001b[0m\n\u001b[0m\u001b[1;32m   1103\u001b[0m         \u001b[0;31m# Do not call functions when jit is used\u001b[0m\u001b[0;34m\u001b[0m\u001b[0;34m\u001b[0m\u001b[0;34m\u001b[0m\u001b[0m\n\u001b[1;32m   1104\u001b[0m         \u001b[0mfull_backward_hooks\u001b[0m\u001b[0;34m,\u001b[0m \u001b[0mnon_full_backward_hooks\u001b[0m \u001b[0;34m=\u001b[0m \u001b[0;34m[\u001b[0m\u001b[0;34m]\u001b[0m\u001b[0;34m,\u001b[0m \u001b[0;34m[\u001b[0m\u001b[0;34m]\u001b[0m\u001b[0;34m\u001b[0m\u001b[0;34m\u001b[0m\u001b[0m\n",
            "\u001b[0;32m<ipython-input-16-18566f65428d>\u001b[0m in \u001b[0;36mforward\u001b[0;34m(self, x)\u001b[0m\n\u001b[1;32m     26\u001b[0m \u001b[0;34m\u001b[0m\u001b[0m\n\u001b[1;32m     27\u001b[0m         \u001b[0mx\u001b[0m \u001b[0;34m=\u001b[0m \u001b[0mself\u001b[0m\u001b[0;34m.\u001b[0m\u001b[0mconv1\u001b[0m\u001b[0;34m(\u001b[0m\u001b[0mx\u001b[0m\u001b[0;34m)\u001b[0m\u001b[0;34m\u001b[0m\u001b[0;34m\u001b[0m\u001b[0m\n\u001b[0;32m---> 28\u001b[0;31m         \u001b[0mx\u001b[0m \u001b[0;34m=\u001b[0m \u001b[0mself\u001b[0m\u001b[0;34m.\u001b[0m\u001b[0mbatchNorm1\u001b[0m\u001b[0;34m(\u001b[0m\u001b[0mx\u001b[0m\u001b[0;34m)\u001b[0m\u001b[0;34m\u001b[0m\u001b[0;34m\u001b[0m\u001b[0m\n\u001b[0m\u001b[1;32m     29\u001b[0m         \u001b[0mx\u001b[0m \u001b[0;34m=\u001b[0m \u001b[0mself\u001b[0m\u001b[0;34m.\u001b[0m\u001b[0mrelu\u001b[0m\u001b[0;34m(\u001b[0m\u001b[0mx\u001b[0m\u001b[0;34m)\u001b[0m\u001b[0;34m\u001b[0m\u001b[0;34m\u001b[0m\u001b[0m\n\u001b[1;32m     30\u001b[0m         \u001b[0mx\u001b[0m \u001b[0;34m=\u001b[0m \u001b[0mself\u001b[0m\u001b[0;34m.\u001b[0m\u001b[0mconv2\u001b[0m\u001b[0;34m(\u001b[0m\u001b[0mx\u001b[0m\u001b[0;34m)\u001b[0m\u001b[0;34m\u001b[0m\u001b[0;34m\u001b[0m\u001b[0m\n",
            "\u001b[0;32m/usr/local/lib/python3.7/dist-packages/torch/nn/modules/module.py\u001b[0m in \u001b[0;36m_call_impl\u001b[0;34m(self, *input, **kwargs)\u001b[0m\n\u001b[1;32m   1100\u001b[0m         if not (self._backward_hooks or self._forward_hooks or self._forward_pre_hooks or _global_backward_hooks\n\u001b[1;32m   1101\u001b[0m                 or _global_forward_hooks or _global_forward_pre_hooks):\n\u001b[0;32m-> 1102\u001b[0;31m             \u001b[0;32mreturn\u001b[0m \u001b[0mforward_call\u001b[0m\u001b[0;34m(\u001b[0m\u001b[0;34m*\u001b[0m\u001b[0minput\u001b[0m\u001b[0;34m,\u001b[0m \u001b[0;34m**\u001b[0m\u001b[0mkwargs\u001b[0m\u001b[0;34m)\u001b[0m\u001b[0;34m\u001b[0m\u001b[0;34m\u001b[0m\u001b[0m\n\u001b[0m\u001b[1;32m   1103\u001b[0m         \u001b[0;31m# Do not call functions when jit is used\u001b[0m\u001b[0;34m\u001b[0m\u001b[0;34m\u001b[0m\u001b[0;34m\u001b[0m\u001b[0m\n\u001b[1;32m   1104\u001b[0m         \u001b[0mfull_backward_hooks\u001b[0m\u001b[0;34m,\u001b[0m \u001b[0mnon_full_backward_hooks\u001b[0m \u001b[0;34m=\u001b[0m \u001b[0;34m[\u001b[0m\u001b[0;34m]\u001b[0m\u001b[0;34m,\u001b[0m \u001b[0;34m[\u001b[0m\u001b[0;34m]\u001b[0m\u001b[0;34m\u001b[0m\u001b[0;34m\u001b[0m\u001b[0m\n",
            "\u001b[0;32m/usr/local/lib/python3.7/dist-packages/torch/nn/modules/batchnorm.py\u001b[0m in \u001b[0;36mforward\u001b[0;34m(self, input)\u001b[0m\n\u001b[1;32m    146\u001b[0m             \u001b[0;31m# TODO: if statement only here to tell the jit to skip emitting this when it is None\u001b[0m\u001b[0;34m\u001b[0m\u001b[0;34m\u001b[0m\u001b[0;34m\u001b[0m\u001b[0m\n\u001b[1;32m    147\u001b[0m             \u001b[0;32mif\u001b[0m \u001b[0mself\u001b[0m\u001b[0;34m.\u001b[0m\u001b[0mnum_batches_tracked\u001b[0m \u001b[0;32mis\u001b[0m \u001b[0;32mnot\u001b[0m \u001b[0;32mNone\u001b[0m\u001b[0;34m:\u001b[0m  \u001b[0;31m# type: ignore[has-type]\u001b[0m\u001b[0;34m\u001b[0m\u001b[0;34m\u001b[0m\u001b[0m\n\u001b[0;32m--> 148\u001b[0;31m                 \u001b[0mself\u001b[0m\u001b[0;34m.\u001b[0m\u001b[0mnum_batches_tracked\u001b[0m \u001b[0;34m=\u001b[0m \u001b[0mself\u001b[0m\u001b[0;34m.\u001b[0m\u001b[0mnum_batches_tracked\u001b[0m \u001b[0;34m+\u001b[0m \u001b[0;36m1\u001b[0m  \u001b[0;31m# type: ignore[has-type]\u001b[0m\u001b[0;34m\u001b[0m\u001b[0;34m\u001b[0m\u001b[0m\n\u001b[0m\u001b[1;32m    149\u001b[0m                 \u001b[0;32mif\u001b[0m \u001b[0mself\u001b[0m\u001b[0;34m.\u001b[0m\u001b[0mmomentum\u001b[0m \u001b[0;32mis\u001b[0m \u001b[0;32mNone\u001b[0m\u001b[0;34m:\u001b[0m  \u001b[0;31m# use cumulative moving average\u001b[0m\u001b[0;34m\u001b[0m\u001b[0;34m\u001b[0m\u001b[0m\n\u001b[1;32m    150\u001b[0m                     \u001b[0mexponential_average_factor\u001b[0m \u001b[0;34m=\u001b[0m \u001b[0;36m1.0\u001b[0m \u001b[0;34m/\u001b[0m \u001b[0mfloat\u001b[0m\u001b[0;34m(\u001b[0m\u001b[0mself\u001b[0m\u001b[0;34m.\u001b[0m\u001b[0mnum_batches_tracked\u001b[0m\u001b[0;34m)\u001b[0m\u001b[0;34m\u001b[0m\u001b[0;34m\u001b[0m\u001b[0m\n",
            "\u001b[0;31mKeyboardInterrupt\u001b[0m: "
          ]
        }
      ]
    },
    {
      "cell_type": "code",
      "source": [
        "checkpoint = torch.load('/content/drive/MyDrive/CarsModels/best_model.pt')\n",
        "\n",
        "model.load_state_dict(checkpoint['Model_state_dict'])\n",
        "optimizer.load_state_dict(checkpoint['Optimizer_state_dict'])\n",
        "\n",
        "contTrain = {\n",
        "    'train_accs': checkpoint['Train_accs'],\n",
        "    'val_accs': checkpoint['Val_accs'],\n",
        "    'num_ep': checkpoint['Num_epoch']\n",
        "}\n",
        "train_acc, val_acc = myFunc.train_model(model, optimizer, trainLoader, validLoader, 10, device, \n",
        "                                 savePath='/content/drive/MyDrive/CarsModels', continueTraining=contTrain)"
      ],
      "metadata": {
        "colab": {
          "base_uri": "https://localhost:8080/"
        },
        "id": "9U6eia0BsUzz",
        "outputId": "129dbd79-8506-4156-e8c5-ca022b3e03a3"
      },
      "execution_count": null,
      "outputs": [
        {
          "output_type": "stream",
          "name": "stdout",
          "text": [
            "Continue training from 4 epoch\n",
            "Start 4 epoch\n",
            "Got 59 / 3232 correct (1.83) in train\n",
            "Got 55 / 4020 correct (1.37) in validation\n",
            "Goten new best val accuracy. Save new best model\n",
            "Start 5 epoch\n",
            "Got 68 / 3232 correct (2.10) in train\n",
            "Got 59 / 4020 correct (1.47) in validation\n",
            "Goten new best val accuracy. Save new best model\n",
            "Start 6 epoch\n",
            "Got 73 / 3232 correct (2.26) in train\n",
            "Got 82 / 4020 correct (2.04) in validation\n",
            "Goten new best val accuracy. Save new best model\n",
            "Start 7 epoch\n",
            "Got 58 / 3232 correct (1.79) in train\n",
            "Got 54 / 4020 correct (1.34) in validation\n",
            "Start 8 epoch\n",
            "Got 109 / 3232 correct (3.37) in train\n",
            "Got 120 / 4020 correct (2.99) in validation\n",
            "Goten new best val accuracy. Save new best model\n",
            "Start 9 epoch\n",
            "Got 109 / 3232 correct (3.37) in train\n",
            "Got 95 / 4020 correct (2.36) in validation\n"
          ]
        }
      ]
    },
    {
      "cell_type": "code",
      "source": [
        "checkpoint = torch.load('/content/drive/MyDrive/CarsModels/best_model.pt')\n",
        "\n",
        "model.load_state_dict(checkpoint['Model_state_dict'])\n",
        "optimizer.load_state_dict(checkpoint['Optimizer_state_dict'])\n",
        "\n",
        "contTrain = {\n",
        "    'train_accs': checkpoint['Train_accs'],\n",
        "    'val_accs': checkpoint['Val_accs'],\n",
        "    'num_ep': checkpoint['Num_epoch']\n",
        "}\n",
        "train_acc, val_acc = myFunc.train_model(model, optimizer, trainLoader, validLoader, 20, device, \n",
        "                                 savePath='/content/drive/MyDrive/CarsModels', continueTraining=contTrain)"
      ],
      "metadata": {
        "colab": {
          "base_uri": "https://localhost:8080/"
        },
        "id": "L_VXGKJyzmUS",
        "outputId": "1f825380-d546-481e-cbb0-299bb850f237"
      },
      "execution_count": null,
      "outputs": [
        {
          "output_type": "stream",
          "name": "stdout",
          "text": [
            "Continue training from 10 epoch\n",
            "Start 10 epoch\n",
            "Got 125 / 3232 correct (3.87) in train\n",
            "Got 131 / 4020 correct (3.26) in validation\n",
            "Goten new best val accuracy. Save new best model\n",
            "Start 11 epoch\n",
            "Got 139 / 3232 correct (4.30) in train\n",
            "Got 138 / 4020 correct (3.43) in validation\n",
            "Goten new best val accuracy. Save new best model\n",
            "Start 12 epoch\n",
            "Got 62 / 3232 correct (1.92) in train\n",
            "Got 92 / 4020 correct (2.29) in validation\n",
            "Start 13 epoch\n",
            "Got 217 / 3232 correct (6.71) in train\n",
            "Got 178 / 4020 correct (4.43) in validation\n",
            "Goten new best val accuracy. Save new best model\n",
            "Start 14 epoch\n",
            "Got 266 / 3232 correct (8.23) in train\n",
            "Got 233 / 4020 correct (5.80) in validation\n",
            "Goten new best val accuracy. Save new best model\n",
            "Start 15 epoch\n",
            "Got 276 / 3232 correct (8.54) in train\n",
            "Got 243 / 4020 correct (6.04) in validation\n",
            "Goten new best val accuracy. Save new best model\n",
            "Start 16 epoch\n",
            "Got 315 / 3232 correct (9.75) in train\n",
            "Got 254 / 4020 correct (6.32) in validation\n",
            "Goten new best val accuracy. Save new best model\n",
            "Start 17 epoch\n",
            "Got 374 / 3232 correct (11.57) in train\n",
            "Got 332 / 4020 correct (8.26) in validation\n",
            "Goten new best val accuracy. Save new best model\n",
            "Start 18 epoch\n",
            "Got 354 / 3232 correct (10.95) in train\n",
            "Got 260 / 4020 correct (6.47) in validation\n",
            "Start 19 epoch\n",
            "Got 532 / 3232 correct (16.46) in train\n",
            "Got 374 / 4020 correct (9.30) in validation\n",
            "Goten new best val accuracy. Save new best model\n"
          ]
        }
      ]
    },
    {
      "cell_type": "code",
      "source": [
        "checkpoint = torch.load('/content/drive/MyDrive/CarsModels/best_model.pt')\n",
        "optimizer = optim.Adam(model.parameters(), lr=0.001, weight_decay=1e-5)\n",
        "\n",
        "model.load_state_dict(checkpoint['Model_state_dict'])\n",
        "optimizer.load_state_dict(checkpoint['Optimizer_state_dict'])\n",
        "\n",
        "contTrain = {\n",
        "    'train_accs': checkpoint['Train_accs'],\n",
        "    'val_accs': checkpoint['Val_accs'],\n",
        "    'num_ep': checkpoint['Num_epoch']\n",
        "}\n",
        "train_acc, val_acc = myFunc.train_model(model, optimizer, trainLoader, validLoader, 25, device, \n",
        "                                 savePath='/content/drive/MyDrive/CarsModels', continueTraining=contTrain)"
      ],
      "metadata": {
        "colab": {
          "base_uri": "https://localhost:8080/"
        },
        "id": "dVdW4LEL-mfz",
        "outputId": "52a3ce93-8538-48ef-9cee-0c38c96dd48c"
      },
      "execution_count": null,
      "outputs": [
        {
          "output_type": "stream",
          "name": "stdout",
          "text": [
            "Continue training from 19 epoch\n",
            "Start 19 epoch\n",
            "Got 560 / 3232 correct (17.33) in train\n",
            "Got 407 / 4020 correct (10.12) in validation\n",
            "Goten new best val accuracy. Save new best model\n",
            "Start 20 epoch\n",
            "Got 594 / 3232 correct (18.38) in train\n",
            "Got 486 / 4020 correct (12.09) in validation\n",
            "Goten new best val accuracy. Save new best model\n",
            "Start 21 epoch\n",
            "Got 715 / 3232 correct (22.12) in train\n",
            "Got 587 / 4020 correct (14.60) in validation\n",
            "Goten new best val accuracy. Save new best model\n",
            "Start 22 epoch\n",
            "Got 900 / 3232 correct (27.85) in train\n",
            "Got 588 / 4020 correct (14.63) in validation\n",
            "Goten new best val accuracy. Save new best model\n",
            "Start 23 epoch\n",
            "Got 1262 / 3232 correct (39.05) in train\n",
            "Got 862 / 4020 correct (21.44) in validation\n",
            "Goten new best val accuracy. Save new best model\n",
            "Start 24 epoch\n",
            "Got 1450 / 3232 correct (44.86) in train\n",
            "Got 1000 / 4020 correct (24.88) in validation\n",
            "Goten new best val accuracy. Save new best model\n"
          ]
        }
      ]
    },
    {
      "cell_type": "code",
      "source": [
        "checkpoint = torch.load('/content/drive/MyDrive/CarsModels/model.pt')\n",
        "optimizer = optim.Adam(model.parameters(), lr=0.001, weight_decay=1e-4)\n",
        "\n",
        "model.load_state_dict(checkpoint['Model_state_dict'])\n",
        "optimizer.load_state_dict(checkpoint['Optimizer_state_dict'])\n",
        "\n",
        "contTrain = {\n",
        "    'train_accs': checkpoint['Train_accs'],\n",
        "    'val_accs': checkpoint['Val_accs'],\n",
        "    'num_ep': checkpoint['Num_epoch']\n",
        "}\n",
        "train_acc, val_acc = myFunc.train_model(model, optimizer, trainLoader, validLoader, 30, device, \n",
        "                                 savePath='/content/drive/MyDrive/CarsModels', continueTraining=contTrain)"
      ],
      "metadata": {
        "colab": {
          "base_uri": "https://localhost:8080/"
        },
        "id": "NCnKaFEOF63c",
        "outputId": "61deba0b-679e-4c6a-cf21-21f569031643"
      },
      "execution_count": null,
      "outputs": [
        {
          "output_type": "stream",
          "name": "stdout",
          "text": [
            "Continue training from 25 epoch\n",
            "Start 25 epoch\n",
            "Got 1600 / 3232 correct (49.50) in train\n",
            "Got 1084 / 4020 correct (26.97) in validation\n",
            "Goten new best val accuracy. Save new best model\n",
            "Start 26 epoch\n",
            "Got 1665 / 3232 correct (51.52) in train\n",
            "Got 1184 / 4020 correct (29.45) in validation\n",
            "Goten new best val accuracy. Save new best model\n",
            "Start 27 epoch\n",
            "Got 1906 / 3232 correct (58.97) in train\n",
            "Got 1292 / 4020 correct (32.14) in validation\n",
            "Goten new best val accuracy. Save new best model\n",
            "Start 28 epoch\n",
            "Got 2065 / 3232 correct (63.89) in train\n",
            "Got 1371 / 4020 correct (34.10) in validation\n",
            "Goten new best val accuracy. Save new best model\n",
            "Start 29 epoch\n",
            "Got 2150 / 3232 correct (66.52) in train\n",
            "Got 1373 / 4020 correct (34.15) in validation\n",
            "Goten new best val accuracy. Save new best model\n"
          ]
        }
      ]
    },
    {
      "cell_type": "code",
      "source": [
        "checkpoint = torch.load('/content/drive/MyDrive/CarsModels/model.pt')\n",
        "optimizer = optim.Adam(model.parameters(), lr=0.001, weight_decay=1e-2)\n",
        "\n",
        "model.load_state_dict(checkpoint['Model_state_dict'])\n",
        "optimizer.load_state_dict(checkpoint['Optimizer_state_dict'])\n",
        "\n",
        "contTrain = {\n",
        "    'train_accs': checkpoint['Train_accs'],\n",
        "    'val_accs': checkpoint['Val_accs'],\n",
        "    'num_ep': checkpoint['Num_epoch']\n",
        "}\n",
        "train_acc, val_acc = myFunc.train_model(model, optimizer, trainLoader, validLoader, 35, device, \n",
        "                                 savePath='/content/drive/MyDrive/CarsModels', continueTraining=contTrain)"
      ],
      "metadata": {
        "colab": {
          "base_uri": "https://localhost:8080/"
        },
        "id": "-5CYn2AlNA-l",
        "outputId": "f9fd9cd8-6449-4353-fc01-59df449ed997"
      },
      "execution_count": null,
      "outputs": [
        {
          "output_type": "stream",
          "name": "stdout",
          "text": [
            "Continue training from 30 epoch\n",
            "Start 30 epoch\n",
            "Got 2488 / 3232 correct (76.98) in train\n",
            "Got 1541 / 4020 correct (38.33) in validation\n",
            "Goten new best val accuracy. Save new best model\n",
            "Start 31 epoch\n",
            "Got 2411 / 3232 correct (74.60) in train\n",
            "Got 1514 / 4020 correct (37.66) in validation\n",
            "Start 32 epoch\n",
            "Got 2636 / 3232 correct (81.56) in train\n",
            "Got 1661 / 4020 correct (41.32) in validation\n",
            "Goten new best val accuracy. Save new best model\n",
            "Start 33 epoch\n",
            "Got 2607 / 3232 correct (80.66) in train\n",
            "Got 1689 / 4020 correct (42.01) in validation\n",
            "Goten new best val accuracy. Save new best model\n",
            "Start 34 epoch\n",
            "Got 2845 / 3232 correct (88.03) in train\n",
            "Got 1759 / 4020 correct (43.76) in validation\n",
            "Goten new best val accuracy. Save new best model\n"
          ]
        }
      ]
    },
    {
      "cell_type": "code",
      "source": [
        "myFunc.show_accuracy_history(train_acc, val_acc)"
      ],
      "metadata": {
        "colab": {
          "base_uri": "https://localhost:8080/",
          "height": 265
        },
        "id": "nBKVjtnrM4zR",
        "outputId": "ffb79c2c-75e0-4cd7-a520-269f9243465e"
      },
      "execution_count": null,
      "outputs": [
        {
          "output_type": "display_data",
          "data": {
            "image/png": "[encoded data removed]",
            "text/plain": [
              "<Figure size 432x288 with 1 Axes>"
            ]
          },
          "metadata": {
            "needs_background": "light"
          }
        }
      ]
    },
    {
      "cell_type": "code",
      "source": [
        "# It should to try smaler model\n",
        "model = create_ResNet50(num_classes=196)\n",
        "test(model)\n",
        "\n",
        "optimizer = optim.Adam(model.parameters(), lr=0.001, weight_decay=1e-5)"
      ],
      "metadata": {
        "colab": {
          "base_uri": "https://localhost:8080/"
        },
        "id": "jPnLnbSDhkbK",
        "outputId": "9da73dc8-cfc9-416d-c380-2ea1b9df12b8"
      },
      "execution_count": 15,
      "outputs": [
        {
          "output_type": "stream",
          "name": "stdout",
          "text": [
            "torch.Size([2, 196])\n"
          ]
        }
      ]
    },
    {
      "cell_type": "code",
      "source": [
        "overfit_model(model, optimizer, trainLoader, 20, device)"
      ],
      "metadata": {
        "colab": {
          "base_uri": "https://localhost:8080/"
        },
        "id": "y51cjkOLiIU1",
        "outputId": "26ea75eb-623d-417f-f303-ae6ac856c888"
      },
      "execution_count": 14,
      "outputs": [
        {
          "output_type": "stream",
          "name": "stdout",
          "text": [
            "Epoch 0, got 0.00 percent accuracy\n",
            "Epoch 1, got 9.38 percent accuracy\n",
            "Epoch 2, got 40.62 percent accuracy\n",
            "Epoch 3, got 56.25 percent accuracy\n",
            "Epoch 4, got 78.12 percent accuracy\n",
            "Epoch 5, got 93.75 percent accuracy\n",
            "Epoch 6, got 96.88 percent accuracy\n",
            "Epoch 7, got 96.88 percent accuracy\n",
            "Epoch 8, got 96.88 percent accuracy\n",
            "Epoch 9, got 96.88 percent accuracy\n",
            "Epoch 10, got 96.88 percent accuracy\n",
            "Epoch 11, got 100.00 percent accuracy\n",
            "Epoch 12, got 100.00 percent accuracy\n",
            "Epoch 13, got 100.00 percent accuracy\n",
            "Epoch 14, got 100.00 percent accuracy\n",
            "Epoch 15, got 96.88 percent accuracy\n",
            "Epoch 16, got 100.00 percent accuracy\n",
            "Epoch 17, got 100.00 percent accuracy\n",
            "Epoch 18, got 100.00 percent accuracy\n",
            "Epoch 19, got 100.00 percent accuracy\n"
          ]
        }
      ]
    },
    {
      "cell_type": "code",
      "source": [
        "myFunc.train_model(model, optimizer, trainLoader, validLoader, num_epoch=20, device=device, savePath='/content/drive/MyDrive/CarsModels')"
      ],
      "metadata": {
        "colab": {
          "base_uri": "https://localhost:8080/"
        },
        "id": "5ZNnyLyAimof",
        "outputId": "fd9197d3-11ea-4f92-9324-74bd76e2ecd2"
      },
      "execution_count": 16,
      "outputs": [
        {
          "output_type": "stream",
          "name": "stdout",
          "text": [
            "Starting new training\n",
            "Start 0 epoch\n",
            "Got 44 / 3232 correct (1.36) in train\n",
            "Got 41 / 4020 correct (1.02) in validation\n",
            "Goten new best val accuracy. Save new best model\n",
            "Start 1 epoch\n",
            "Got 37 / 3232 correct (1.14) in train\n",
            "Got 42 / 4020 correct (1.04) in validation\n",
            "Goten new best val accuracy. Save new best model\n",
            "Start 2 epoch\n",
            "Got 61 / 3232 correct (1.89) in train\n",
            "Got 58 / 4020 correct (1.44) in validation\n",
            "Goten new best val accuracy. Save new best model\n",
            "Start 3 epoch\n",
            "Got 74 / 3232 correct (2.29) in train\n",
            "Got 59 / 4020 correct (1.47) in validation\n",
            "Goten new best val accuracy. Save new best model\n",
            "Start 4 epoch\n",
            "Got 84 / 3232 correct (2.60) in train\n",
            "Got 90 / 4020 correct (2.24) in validation\n",
            "Goten new best val accuracy. Save new best model\n",
            "Start 5 epoch\n",
            "Got 75 / 3232 correct (2.32) in train\n",
            "Got 76 / 4020 correct (1.89) in validation\n",
            "Start 6 epoch\n",
            "Got 92 / 3232 correct (2.85) in train\n",
            "Got 84 / 4020 correct (2.09) in validation\n",
            "Start 7 epoch\n",
            "Got 115 / 3232 correct (3.56) in train\n",
            "Got 110 / 4020 correct (2.74) in validation\n",
            "Goten new best val accuracy. Save new best model\n",
            "Start 8 epoch\n",
            "Got 139 / 3232 correct (4.30) in train\n",
            "Got 141 / 4020 correct (3.51) in validation\n",
            "Goten new best val accuracy. Save new best model\n",
            "Start 9 epoch\n",
            "Got 116 / 3232 correct (3.59) in train\n",
            "Got 89 / 4020 correct (2.21) in validation\n",
            "Start 10 epoch\n",
            "Got 182 / 3232 correct (5.63) in train\n",
            "Got 158 / 4020 correct (3.93) in validation\n",
            "Goten new best val accuracy. Save new best model\n",
            "Start 11 epoch\n",
            "Got 172 / 3232 correct (5.32) in train\n",
            "Got 143 / 4020 correct (3.56) in validation\n",
            "Start 12 epoch\n",
            "Got 183 / 3232 correct (5.66) in train\n",
            "Got 176 / 4020 correct (4.38) in validation\n",
            "Goten new best val accuracy. Save new best model\n",
            "Start 13 epoch\n",
            "Got 243 / 3232 correct (7.52) in train\n",
            "Got 196 / 4020 correct (4.88) in validation\n",
            "Goten new best val accuracy. Save new best model\n",
            "Start 14 epoch\n",
            "Got 309 / 3232 correct (9.56) in train\n",
            "Got 211 / 4020 correct (5.25) in validation\n",
            "Goten new best val accuracy. Save new best model\n",
            "Start 15 epoch\n",
            "Got 391 / 3232 correct (12.10) in train\n",
            "Got 322 / 4020 correct (8.01) in validation\n",
            "Goten new best val accuracy. Save new best model\n",
            "Start 16 epoch\n",
            "Got 393 / 3232 correct (12.16) in train\n",
            "Got 314 / 4020 correct (7.81) in validation\n",
            "Start 17 epoch\n",
            "Got 512 / 3232 correct (15.84) in train\n",
            "Got 439 / 4020 correct (10.92) in validation\n",
            "Goten new best val accuracy. Save new best model\n",
            "Start 18 epoch\n",
            "Got 616 / 3232 correct (19.06) in train\n",
            "Got 480 / 4020 correct (11.94) in validation\n",
            "Goten new best val accuracy. Save new best model\n",
            "Start 19 epoch\n",
            "Got 752 / 3232 correct (23.27) in train\n",
            "Got 538 / 4020 correct (13.38) in validation\n",
            "Goten new best val accuracy. Save new best model\n"
          ]
        },
        {
          "output_type": "execute_result",
          "data": {
            "text/plain": [
              "([0.013613861386138614,\n",
              "  0.011448019801980198,\n",
              "  0.018873762376237623,\n",
              "  0.022896039603960396,\n",
              "  0.02599009900990099,\n",
              "  0.023205445544554455,\n",
              "  0.028465346534653466,\n",
              "  0.03558168316831683,\n",
              "  0.043007425742574254,\n",
              "  0.03589108910891089,\n",
              "  0.05631188118811881,\n",
              "  0.053217821782178217,\n",
              "  0.05662128712871287,\n",
              "  0.07518564356435643,\n",
              "  0.09560643564356436,\n",
              "  0.12097772277227722,\n",
              "  0.12159653465346534,\n",
              "  0.15841584158415842,\n",
              "  0.1905940594059406,\n",
              "  0.23267326732673269],\n",
              " [0.010199004975124378,\n",
              "  0.010447761194029851,\n",
              "  0.014427860696517412,\n",
              "  0.014676616915422885,\n",
              "  0.022388059701492536,\n",
              "  0.01890547263681592,\n",
              "  0.020895522388059702,\n",
              "  0.02736318407960199,\n",
              "  0.03507462686567164,\n",
              "  0.022139303482587063,\n",
              "  0.039303482587064675,\n",
              "  0.03557213930348259,\n",
              "  0.04378109452736319,\n",
              "  0.04875621890547264,\n",
              "  0.052487562189054725,\n",
              "  0.08009950248756219,\n",
              "  0.0781094527363184,\n",
              "  0.10920398009950248,\n",
              "  0.11940298507462686,\n",
              "  0.1338308457711443])"
            ]
          },
          "metadata": {},
          "execution_count": 16
        }
      ]
    },
    {
      "cell_type": "code",
      "source": [
        "train_acc, val_acc = _"
      ],
      "metadata": {
        "id": "5QpTkvFgtTe9"
      },
      "execution_count": 18,
      "outputs": []
    },
    {
      "cell_type": "code",
      "source": [
        "checkpoint = torch.load('/content/drive/MyDrive/CarsModels/model.pt')\n",
        "optimizer = optim.Adam(model.parameters(), lr=0.001, weight_decay=1e-2)\n",
        "\n",
        "model.load_state_dict(checkpoint['Model_state_dict'])\n",
        "optimizer.load_state_dict(checkpoint['Optimizer_state_dict'])\n",
        "\n",
        "contTrain = {\n",
        "    'train_accs': checkpoint['Train_accs'],\n",
        "    'val_accs': checkpoint['Val_accs'],\n",
        "    'num_ep': checkpoint['Num_epoch']\n",
        "}\n",
        "train_acc, val_acc = myFunc.train_model(model, optimizer, trainLoader, validLoader, 30, device, \n",
        "                                 savePath='/content/drive/MyDrive/CarsModels', continueTraining=contTrain)"
      ],
      "metadata": {
        "colab": {
          "base_uri": "https://localhost:8080/"
        },
        "id": "PFzc4AuJtdT9",
        "outputId": "5a698343-4c60-49c1-9aea-dc43b1161758"
      },
      "execution_count": 19,
      "outputs": [
        {
          "output_type": "stream",
          "name": "stdout",
          "text": [
            "Continue training from 20 epoch\n",
            "Start 20 epoch\n",
            "Got 926 / 3232 correct (28.65) in train\n",
            "Got 650 / 4020 correct (16.17) in validation\n",
            "Goten new best val accuracy. Save new best model\n",
            "Start 21 epoch\n",
            "Got 1106 / 3232 correct (34.22) in train\n",
            "Got 762 / 4020 correct (18.96) in validation\n",
            "Goten new best val accuracy. Save new best model\n",
            "Start 22 epoch\n",
            "Got 1104 / 3232 correct (34.16) in train\n",
            "Got 797 / 4020 correct (19.83) in validation\n",
            "Goten new best val accuracy. Save new best model\n",
            "Start 23 epoch\n",
            "Got 1181 / 3232 correct (36.54) in train\n",
            "Got 842 / 4020 correct (20.95) in validation\n",
            "Goten new best val accuracy. Save new best model\n",
            "Start 24 epoch\n",
            "Got 1323 / 3232 correct (40.93) in train\n",
            "Got 858 / 4020 correct (21.34) in validation\n",
            "Goten new best val accuracy. Save new best model\n",
            "Start 25 epoch\n",
            "Got 1746 / 3232 correct (54.02) in train\n",
            "Got 1165 / 4020 correct (28.98) in validation\n",
            "Goten new best val accuracy. Save new best model\n",
            "Start 26 epoch\n",
            "Got 1762 / 3232 correct (54.52) in train\n",
            "Got 1138 / 4020 correct (28.31) in validation\n",
            "Start 27 epoch\n",
            "Got 2247 / 3232 correct (69.52) in train\n",
            "Got 1416 / 4020 correct (35.22) in validation\n",
            "Goten new best val accuracy. Save new best model\n",
            "Start 28 epoch\n",
            "Got 2325 / 3232 correct (71.94) in train\n",
            "Got 1375 / 4020 correct (34.20) in validation\n",
            "Start 29 epoch\n",
            "Got 2511 / 3232 correct (77.69) in train\n",
            "Got 1502 / 4020 correct (37.36) in validation\n",
            "Goten new best val accuracy. Save new best model\n"
          ]
        }
      ]
    },
    {
      "cell_type": "code",
      "source": [
        "myFunc.show_accuracy_history(train_acc, val_acc)"
      ],
      "metadata": {
        "colab": {
          "base_uri": "https://localhost:8080/",
          "height": 265
        },
        "id": "492K_KjPyw_Q",
        "outputId": "90bd012b-194f-43bc-b653-c7739527a23b"
      },
      "execution_count": 20,
      "outputs": [
        {
          "output_type": "display_data",
          "data": {
            "image/png": "[encoded data removed]",
            "text/plain": [
              "<Figure size 432x288 with 1 Axes>"
            ]
          },
          "metadata": {
            "needs_background": "light"
          }
        }
      ]
    },
    {
      "cell_type": "code",
      "source": [
        "# Might be worth making data augmentation more complex\n",
        "\n",
        "trainTransforms = T.Compose([\n",
        "    T.ToTensor(),\n",
        "    T.Normalize(mean=(0.4914, 0.4822, 0.4465), std=(0.2023, 0.1994, 0.2010)),\n",
        "    T.RandomHorizontalFlip(),\n",
        "    T.RandomApply([T.ColorJitter(brightness=0.3)], p=0.5),\n",
        "    T.RandomGrayscale(p=0.3),\n",
        "    T.RandomApply([T.RandomRotation(degrees=(-25, 25))], p=0.5),\n",
        "    T.RandomApply([T.RandomResizedCrop(224, scale=(0.6, 0.8))], p=1.0)\n",
        "])\n",
        "trainSet = dset.ImageFolder(trainPath, trainTransforms)\n",
        "trainLoader = DataLoader(trainSet, batch_size=32, sampler=sampler.SubsetRandomSampler(range(0, trainSet.__len__())))"
      ],
      "metadata": {
        "id": "AYlpamnDzj0o"
      },
      "execution_count": 97,
      "outputs": []
    },
    {
      "cell_type": "code",
      "source": [
        "x, y = trainSet[7000]\n",
        "\n",
        "className = list(trainSet.class_to_idx.keys())[list(trainSet.class_to_idx.values()).index(y)] # Get name of class\n",
        "plt.title(className)\n",
        "plt.imshow(x.permute(1, 2, 0))"
      ],
      "metadata": {
        "colab": {
          "base_uri": "https://localhost:8080/",
          "height": 298
        },
        "id": "klAPFfYg0W4x",
        "outputId": "b536fdc1-972f-4c46-b8cb-41cb6654bfee"
      },
      "execution_count": 96,
      "outputs": [
        {
          "output_type": "execute_result",
          "data": {
            "text/plain": [
              "<matplotlib.image.AxesImage at 0x7f7548577650>"
            ]
          },
          "metadata": {},
          "execution_count": 96
        },
        {
          "output_type": "display_data",
          "data": {
            "image/png": "[encoded data removed]",
            "text/plain": [
              "<Figure size 432x288 with 1 Axes>"
            ]
          },
          "metadata": {
            "needs_background": "light"
          }
        }
      ]
    },
    {
      "cell_type": "code",
      "source": [
        "model = create_ResNet50(num_classes=196)\n",
        "optimizer = optim.Adam(model.parameters(), lr=0.001, weight_decay=1e-4)"
      ],
      "metadata": {
        "id": "FEoEzBdX3KCf"
      },
      "execution_count": 77,
      "outputs": []
    },
    {
      "cell_type": "code",
      "source": [
        "train_acc, val_acc = myFunc.train_model(model, optimizer, trainLoader, validLoader, num_epoch=10, device=device, savePath='/content/drive/MyDrive/CarsModels')"
      ],
      "metadata": {
        "colab": {
          "base_uri": "https://localhost:8080/"
        },
        "id": "59m1w1113Sm0",
        "outputId": "e5051282-02c5-47f7-8986-ca1fb26ec073"
      },
      "execution_count": 78,
      "outputs": [
        {
          "output_type": "stream",
          "name": "stdout",
          "text": [
            "Starting new training\n",
            "Start 0 epoch\n",
            "Got 22 / 3232 correct (0.68) in train\n",
            "Got 24 / 4020 correct (0.60) in validation\n",
            "Goten new best val accuracy. Save new best model\n",
            "Start 1 epoch\n",
            "Got 27 / 3232 correct (0.84) in train\n",
            "Got 33 / 4020 correct (0.82) in validation\n",
            "Goten new best val accuracy. Save new best model\n",
            "Start 2 epoch\n",
            "Got 27 / 3232 correct (0.84) in train\n",
            "Got 34 / 4020 correct (0.85) in validation\n",
            "Goten new best val accuracy. Save new best model\n",
            "Start 3 epoch\n",
            "Got 37 / 3232 correct (1.14) in train\n",
            "Got 54 / 4020 correct (1.34) in validation\n",
            "Goten new best val accuracy. Save new best model\n",
            "Start 4 epoch\n",
            "Got 54 / 3232 correct (1.67) in train\n",
            "Got 62 / 4020 correct (1.54) in validation\n",
            "Goten new best val accuracy. Save new best model\n",
            "Start 5 epoch\n",
            "Got 55 / 3232 correct (1.70) in train\n",
            "Got 62 / 4020 correct (1.54) in validation\n",
            "Start 6 epoch\n",
            "Got 13 / 3232 correct (0.40) in train\n",
            "Got 28 / 4020 correct (0.70) in validation\n",
            "Start 7 epoch\n",
            "Got 59 / 3232 correct (1.83) in train\n",
            "Got 64 / 4020 correct (1.59) in validation\n",
            "Goten new best val accuracy. Save new best model\n",
            "Start 8 epoch\n",
            "Got 53 / 3232 correct (1.64) in train\n",
            "Got 46 / 4020 correct (1.14) in validation\n",
            "Start 9 epoch\n",
            "Got 49 / 3232 correct (1.52) in train\n",
            "Got 70 / 4020 correct (1.74) in validation\n",
            "Goten new best val accuracy. Save new best model\n"
          ]
        }
      ]
    },
    {
      "cell_type": "code",
      "source": [
        "checkpoint = torch.load('/content/drive/MyDrive/CarsModels/model.pt')\n",
        "# optimizer = optim.Adam(model.parameters(), lr=0.001, weight_decay=1e-4)\n",
        "\n",
        "model.load_state_dict(checkpoint['Model_state_dict'])\n",
        "optimizer.load_state_dict(checkpoint['Optimizer_state_dict'])\n",
        "\n",
        "contTrain = {\n",
        "    'train_accs': checkpoint['Train_accs'],\n",
        "    'val_accs': checkpoint['Val_accs'],\n",
        "    'num_ep': checkpoint['Num_epoch']\n",
        "}\n",
        "train_acc, val_acc = myFunc.train_model(model, optimizer, trainLoader, validLoader, 25, device, \n",
        "                                 savePath='/content/drive/MyDrive/CarsModels', continueTraining=contTrain)"
      ],
      "metadata": {
        "colab": {
          "base_uri": "https://localhost:8080/"
        },
        "id": "6zob-Jut9oKW",
        "outputId": "a921ac9f-a1da-453c-8299-2bff60752733"
      },
      "execution_count": 79,
      "outputs": [
        {
          "output_type": "stream",
          "name": "stdout",
          "text": [
            "Continue training from 10 epoch\n",
            "Start 10 epoch\n",
            "Got 77 / 3232 correct (2.38) in train\n",
            "Got 105 / 4020 correct (2.61) in validation\n",
            "Goten new best val accuracy. Save new best model\n",
            "Start 11 epoch\n",
            "Got 84 / 3232 correct (2.60) in train\n",
            "Got 79 / 4020 correct (1.97) in validation\n",
            "Start 12 epoch\n",
            "Got 75 / 3232 correct (2.32) in train\n",
            "Got 76 / 4020 correct (1.89) in validation\n",
            "Start 13 epoch\n",
            "Got 97 / 3232 correct (3.00) in train\n",
            "Got 87 / 4020 correct (2.16) in validation\n",
            "Start 14 epoch\n",
            "Got 115 / 3232 correct (3.56) in train\n",
            "Got 137 / 4020 correct (3.41) in validation\n",
            "Goten new best val accuracy. Save new best model\n",
            "Start 15 epoch\n",
            "Got 101 / 3232 correct (3.12) in train\n",
            "Got 120 / 4020 correct (2.99) in validation\n",
            "Start 16 epoch\n",
            "Got 170 / 3232 correct (5.26) in train\n",
            "Got 208 / 4020 correct (5.17) in validation\n",
            "Goten new best val accuracy. Save new best model\n",
            "Start 17 epoch\n",
            "Got 191 / 3232 correct (5.91) in train\n",
            "Got 163 / 4020 correct (4.05) in validation\n",
            "Start 18 epoch\n",
            "Got 164 / 3232 correct (5.07) in train\n",
            "Got 220 / 4020 correct (5.47) in validation\n",
            "Goten new best val accuracy. Save new best model\n",
            "Start 19 epoch\n",
            "Got 248 / 3232 correct (7.67) in train\n",
            "Got 251 / 4020 correct (6.24) in validation\n",
            "Goten new best val accuracy. Save new best model\n",
            "Start 20 epoch\n",
            "Got 292 / 3232 correct (9.03) in train\n",
            "Got 289 / 4020 correct (7.19) in validation\n",
            "Goten new best val accuracy. Save new best model\n",
            "Start 21 epoch\n",
            "Got 290 / 3232 correct (8.97) in train\n",
            "Got 321 / 4020 correct (7.99) in validation\n",
            "Goten new best val accuracy. Save new best model\n",
            "Start 22 epoch\n",
            "Got 226 / 3232 correct (6.99) in train\n",
            "Got 267 / 4020 correct (6.64) in validation\n",
            "Start 23 epoch\n",
            "Got 441 / 3232 correct (13.64) in train\n",
            "Got 376 / 4020 correct (9.35) in validation\n",
            "Goten new best val accuracy. Save new best model\n",
            "Start 24 epoch\n",
            "Got 425 / 3232 correct (13.15) in train\n",
            "Got 444 / 4020 correct (11.04) in validation\n",
            "Goten new best val accuracy. Save new best model\n"
          ]
        }
      ]
    },
    {
      "cell_type": "code",
      "source": [
        "checkpoint = torch.load('/content/drive/MyDrive/CarsModels/model.pt')\n",
        "optimizer = optim.Adam(model.parameters(), lr=0.01, weight_decay=1e-4)\n",
        "\n",
        "model.load_state_dict(checkpoint['Model_state_dict'])\n",
        "optimizer.load_state_dict(checkpoint['Optimizer_state_dict'])\n",
        "\n",
        "contTrain = {\n",
        "    'train_accs': checkpoint['Train_accs'],\n",
        "    'val_accs': checkpoint['Val_accs'],\n",
        "    'num_ep': checkpoint['Num_epoch']\n",
        "}\n",
        "train_acc, val_acc = myFunc.train_model(model, optimizer, trainLoader, validLoader, 30, device, \n",
        "                                 savePath='/content/drive/MyDrive/CarsModels', continueTraining=contTrain)"
      ],
      "metadata": {
        "colab": {
          "base_uri": "https://localhost:8080/",
          "height": 471
        },
        "id": "MbZ7LJp8GsMO",
        "outputId": "0fb15f39-8000-47c5-e127-1f1dd5bc4749"
      },
      "execution_count": 98,
      "outputs": [
        {
          "output_type": "stream",
          "name": "stdout",
          "text": [
            "Continue training from 25 epoch\n",
            "Start 25 epoch\n",
            "Got 268 / 3232 correct (8.29) in train\n",
            "Got 383 / 4020 correct (9.53) in validation\n",
            "Start 26 epoch\n",
            "Got 226 / 3232 correct (6.99) in train\n",
            "Got 300 / 4020 correct (7.46) in validation\n",
            "Start 27 epoch\n"
          ]
        },
        {
          "output_type": "error",
          "ename": "KeyboardInterrupt",
          "evalue": "ignored",
          "traceback": [
            "\u001b[0;31m---------------------------------------------------------------------------\u001b[0m",
            "\u001b[0;31mKeyboardInterrupt\u001b[0m                         Traceback (most recent call last)",
            "\u001b[0;32m<ipython-input-98-48fc217f8b4b>\u001b[0m in \u001b[0;36m<module>\u001b[0;34m()\u001b[0m\n\u001b[1;32m     11\u001b[0m }\n\u001b[1;32m     12\u001b[0m train_acc, val_acc = myFunc.train_model(model, optimizer, trainLoader, validLoader, 30, device, \n\u001b[0;32m---> 13\u001b[0;31m                                  savePath='/content/drive/MyDrive/CarsModels', continueTraining=contTrain)\n\u001b[0m",
            "\u001b[0;32m/content/drive/MyDrive/Colab Notebooks/FunctionsForNets.py\u001b[0m in \u001b[0;36mtrain_model\u001b[0;34m(model, optimizer, trainLoader, validationLoader, num_epoch, device, printAndSaveEvery, continueTraining, savePath)\u001b[0m\n\u001b[1;32m     63\u001b[0m   \u001b[0;32mfor\u001b[0m \u001b[0me\u001b[0m \u001b[0;32min\u001b[0m \u001b[0mrange\u001b[0m\u001b[0;34m(\u001b[0m\u001b[0mstart_ep\u001b[0m\u001b[0;34m,\u001b[0m \u001b[0mnum_epoch\u001b[0m\u001b[0;34m)\u001b[0m\u001b[0;34m:\u001b[0m\u001b[0;34m\u001b[0m\u001b[0;34m\u001b[0m\u001b[0m\n\u001b[1;32m     64\u001b[0m     \u001b[0mprint\u001b[0m\u001b[0;34m(\u001b[0m\u001b[0;34m\"Start \"\u001b[0m \u001b[0;34m+\u001b[0m \u001b[0mstr\u001b[0m\u001b[0;34m(\u001b[0m\u001b[0me\u001b[0m\u001b[0;34m)\u001b[0m \u001b[0;34m+\u001b[0m \u001b[0;34m\" epoch\"\u001b[0m\u001b[0;34m)\u001b[0m\u001b[0;34m\u001b[0m\u001b[0;34m\u001b[0m\u001b[0m\n\u001b[0;32m---> 65\u001b[0;31m     \u001b[0;32mfor\u001b[0m \u001b[0mt\u001b[0m\u001b[0;34m,\u001b[0m \u001b[0;34m(\u001b[0m\u001b[0mx\u001b[0m\u001b[0;34m,\u001b[0m \u001b[0my\u001b[0m\u001b[0;34m)\u001b[0m \u001b[0;32min\u001b[0m \u001b[0menumerate\u001b[0m\u001b[0;34m(\u001b[0m\u001b[0mtrainLoader\u001b[0m\u001b[0;34m)\u001b[0m\u001b[0;34m:\u001b[0m\u001b[0;34m\u001b[0m\u001b[0;34m\u001b[0m\u001b[0m\n\u001b[0m\u001b[1;32m     66\u001b[0m \u001b[0;34m\u001b[0m\u001b[0m\n\u001b[1;32m     67\u001b[0m       \u001b[0mmodel\u001b[0m\u001b[0;34m.\u001b[0m\u001b[0mtrain\u001b[0m\u001b[0;34m(\u001b[0m\u001b[0;34m)\u001b[0m\u001b[0;34m\u001b[0m\u001b[0;34m\u001b[0m\u001b[0m\n",
            "\u001b[0;32m/usr/local/lib/python3.7/dist-packages/torch/utils/data/dataloader.py\u001b[0m in \u001b[0;36m__next__\u001b[0;34m(self)\u001b[0m\n\u001b[1;32m    519\u001b[0m             \u001b[0;32mif\u001b[0m \u001b[0mself\u001b[0m\u001b[0;34m.\u001b[0m\u001b[0m_sampler_iter\u001b[0m \u001b[0;32mis\u001b[0m \u001b[0;32mNone\u001b[0m\u001b[0;34m:\u001b[0m\u001b[0;34m\u001b[0m\u001b[0;34m\u001b[0m\u001b[0m\n\u001b[1;32m    520\u001b[0m                 \u001b[0mself\u001b[0m\u001b[0;34m.\u001b[0m\u001b[0m_reset\u001b[0m\u001b[0;34m(\u001b[0m\u001b[0;34m)\u001b[0m\u001b[0;34m\u001b[0m\u001b[0;34m\u001b[0m\u001b[0m\n\u001b[0;32m--> 521\u001b[0;31m             \u001b[0mdata\u001b[0m \u001b[0;34m=\u001b[0m \u001b[0mself\u001b[0m\u001b[0;34m.\u001b[0m\u001b[0m_next_data\u001b[0m\u001b[0;34m(\u001b[0m\u001b[0;34m)\u001b[0m\u001b[0;34m\u001b[0m\u001b[0;34m\u001b[0m\u001b[0m\n\u001b[0m\u001b[1;32m    522\u001b[0m             \u001b[0mself\u001b[0m\u001b[0;34m.\u001b[0m\u001b[0m_num_yielded\u001b[0m \u001b[0;34m+=\u001b[0m \u001b[0;36m1\u001b[0m\u001b[0;34m\u001b[0m\u001b[0;34m\u001b[0m\u001b[0m\n\u001b[1;32m    523\u001b[0m             \u001b[0;32mif\u001b[0m \u001b[0mself\u001b[0m\u001b[0;34m.\u001b[0m\u001b[0m_dataset_kind\u001b[0m \u001b[0;34m==\u001b[0m \u001b[0m_DatasetKind\u001b[0m\u001b[0;34m.\u001b[0m\u001b[0mIterable\u001b[0m \u001b[0;32mand\u001b[0m\u001b[0;31m \u001b[0m\u001b[0;31m\\\u001b[0m\u001b[0;34m\u001b[0m\u001b[0;34m\u001b[0m\u001b[0m\n",
            "\u001b[0;32m/usr/local/lib/python3.7/dist-packages/torch/utils/data/dataloader.py\u001b[0m in \u001b[0;36m_next_data\u001b[0;34m(self)\u001b[0m\n\u001b[1;32m    559\u001b[0m     \u001b[0;32mdef\u001b[0m \u001b[0m_next_data\u001b[0m\u001b[0;34m(\u001b[0m\u001b[0mself\u001b[0m\u001b[0;34m)\u001b[0m\u001b[0;34m:\u001b[0m\u001b[0;34m\u001b[0m\u001b[0;34m\u001b[0m\u001b[0m\n\u001b[1;32m    560\u001b[0m         \u001b[0mindex\u001b[0m \u001b[0;34m=\u001b[0m \u001b[0mself\u001b[0m\u001b[0;34m.\u001b[0m\u001b[0m_next_index\u001b[0m\u001b[0;34m(\u001b[0m\u001b[0;34m)\u001b[0m  \u001b[0;31m# may raise StopIteration\u001b[0m\u001b[0;34m\u001b[0m\u001b[0;34m\u001b[0m\u001b[0m\n\u001b[0;32m--> 561\u001b[0;31m         \u001b[0mdata\u001b[0m \u001b[0;34m=\u001b[0m \u001b[0mself\u001b[0m\u001b[0;34m.\u001b[0m\u001b[0m_dataset_fetcher\u001b[0m\u001b[0;34m.\u001b[0m\u001b[0mfetch\u001b[0m\u001b[0;34m(\u001b[0m\u001b[0mindex\u001b[0m\u001b[0;34m)\u001b[0m  \u001b[0;31m# may raise StopIteration\u001b[0m\u001b[0;34m\u001b[0m\u001b[0;34m\u001b[0m\u001b[0m\n\u001b[0m\u001b[1;32m    562\u001b[0m         \u001b[0;32mif\u001b[0m \u001b[0mself\u001b[0m\u001b[0;34m.\u001b[0m\u001b[0m_pin_memory\u001b[0m\u001b[0;34m:\u001b[0m\u001b[0;34m\u001b[0m\u001b[0;34m\u001b[0m\u001b[0m\n\u001b[1;32m    563\u001b[0m             \u001b[0mdata\u001b[0m \u001b[0;34m=\u001b[0m \u001b[0m_utils\u001b[0m\u001b[0;34m.\u001b[0m\u001b[0mpin_memory\u001b[0m\u001b[0;34m.\u001b[0m\u001b[0mpin_memory\u001b[0m\u001b[0;34m(\u001b[0m\u001b[0mdata\u001b[0m\u001b[0;34m)\u001b[0m\u001b[0;34m\u001b[0m\u001b[0;34m\u001b[0m\u001b[0m\n",
            "\u001b[0;32m/usr/local/lib/python3.7/dist-packages/torch/utils/data/_utils/fetch.py\u001b[0m in \u001b[0;36mfetch\u001b[0;34m(self, possibly_batched_index)\u001b[0m\n\u001b[1;32m     47\u001b[0m     \u001b[0;32mdef\u001b[0m \u001b[0mfetch\u001b[0m\u001b[0;34m(\u001b[0m\u001b[0mself\u001b[0m\u001b[0;34m,\u001b[0m \u001b[0mpossibly_batched_index\u001b[0m\u001b[0;34m)\u001b[0m\u001b[0;34m:\u001b[0m\u001b[0;34m\u001b[0m\u001b[0;34m\u001b[0m\u001b[0m\n\u001b[1;32m     48\u001b[0m         \u001b[0;32mif\u001b[0m \u001b[0mself\u001b[0m\u001b[0;34m.\u001b[0m\u001b[0mauto_collation\u001b[0m\u001b[0;34m:\u001b[0m\u001b[0;34m\u001b[0m\u001b[0;34m\u001b[0m\u001b[0m\n\u001b[0;32m---> 49\u001b[0;31m             \u001b[0mdata\u001b[0m \u001b[0;34m=\u001b[0m \u001b[0;34m[\u001b[0m\u001b[0mself\u001b[0m\u001b[0;34m.\u001b[0m\u001b[0mdataset\u001b[0m\u001b[0;34m[\u001b[0m\u001b[0midx\u001b[0m\u001b[0;34m]\u001b[0m \u001b[0;32mfor\u001b[0m \u001b[0midx\u001b[0m \u001b[0;32min\u001b[0m \u001b[0mpossibly_batched_index\u001b[0m\u001b[0;34m]\u001b[0m\u001b[0;34m\u001b[0m\u001b[0;34m\u001b[0m\u001b[0m\n\u001b[0m\u001b[1;32m     50\u001b[0m         \u001b[0;32melse\u001b[0m\u001b[0;34m:\u001b[0m\u001b[0;34m\u001b[0m\u001b[0;34m\u001b[0m\u001b[0m\n\u001b[1;32m     51\u001b[0m             \u001b[0mdata\u001b[0m \u001b[0;34m=\u001b[0m \u001b[0mself\u001b[0m\u001b[0;34m.\u001b[0m\u001b[0mdataset\u001b[0m\u001b[0;34m[\u001b[0m\u001b[0mpossibly_batched_index\u001b[0m\u001b[0;34m]\u001b[0m\u001b[0;34m\u001b[0m\u001b[0;34m\u001b[0m\u001b[0m\n",
            "\u001b[0;32m/usr/local/lib/python3.7/dist-packages/torch/utils/data/_utils/fetch.py\u001b[0m in \u001b[0;36m<listcomp>\u001b[0;34m(.0)\u001b[0m\n\u001b[1;32m     47\u001b[0m     \u001b[0;32mdef\u001b[0m \u001b[0mfetch\u001b[0m\u001b[0;34m(\u001b[0m\u001b[0mself\u001b[0m\u001b[0;34m,\u001b[0m \u001b[0mpossibly_batched_index\u001b[0m\u001b[0;34m)\u001b[0m\u001b[0;34m:\u001b[0m\u001b[0;34m\u001b[0m\u001b[0;34m\u001b[0m\u001b[0m\n\u001b[1;32m     48\u001b[0m         \u001b[0;32mif\u001b[0m \u001b[0mself\u001b[0m\u001b[0;34m.\u001b[0m\u001b[0mauto_collation\u001b[0m\u001b[0;34m:\u001b[0m\u001b[0;34m\u001b[0m\u001b[0;34m\u001b[0m\u001b[0m\n\u001b[0;32m---> 49\u001b[0;31m             \u001b[0mdata\u001b[0m \u001b[0;34m=\u001b[0m \u001b[0;34m[\u001b[0m\u001b[0mself\u001b[0m\u001b[0;34m.\u001b[0m\u001b[0mdataset\u001b[0m\u001b[0;34m[\u001b[0m\u001b[0midx\u001b[0m\u001b[0;34m]\u001b[0m \u001b[0;32mfor\u001b[0m \u001b[0midx\u001b[0m \u001b[0;32min\u001b[0m \u001b[0mpossibly_batched_index\u001b[0m\u001b[0;34m]\u001b[0m\u001b[0;34m\u001b[0m\u001b[0;34m\u001b[0m\u001b[0m\n\u001b[0m\u001b[1;32m     50\u001b[0m         \u001b[0;32melse\u001b[0m\u001b[0;34m:\u001b[0m\u001b[0;34m\u001b[0m\u001b[0;34m\u001b[0m\u001b[0m\n\u001b[1;32m     51\u001b[0m             \u001b[0mdata\u001b[0m \u001b[0;34m=\u001b[0m \u001b[0mself\u001b[0m\u001b[0;34m.\u001b[0m\u001b[0mdataset\u001b[0m\u001b[0;34m[\u001b[0m\u001b[0mpossibly_batched_index\u001b[0m\u001b[0;34m]\u001b[0m\u001b[0;34m\u001b[0m\u001b[0;34m\u001b[0m\u001b[0m\n",
            "\u001b[0;32m/usr/local/lib/python3.7/dist-packages/torchvision/datasets/folder.py\u001b[0m in \u001b[0;36m__getitem__\u001b[0;34m(self, index)\u001b[0m\n\u001b[1;32m    232\u001b[0m         \u001b[0msample\u001b[0m \u001b[0;34m=\u001b[0m \u001b[0mself\u001b[0m\u001b[0;34m.\u001b[0m\u001b[0mloader\u001b[0m\u001b[0;34m(\u001b[0m\u001b[0mpath\u001b[0m\u001b[0;34m)\u001b[0m\u001b[0;34m\u001b[0m\u001b[0;34m\u001b[0m\u001b[0m\n\u001b[1;32m    233\u001b[0m         \u001b[0;32mif\u001b[0m \u001b[0mself\u001b[0m\u001b[0;34m.\u001b[0m\u001b[0mtransform\u001b[0m \u001b[0;32mis\u001b[0m \u001b[0;32mnot\u001b[0m \u001b[0;32mNone\u001b[0m\u001b[0;34m:\u001b[0m\u001b[0;34m\u001b[0m\u001b[0;34m\u001b[0m\u001b[0m\n\u001b[0;32m--> 234\u001b[0;31m             \u001b[0msample\u001b[0m \u001b[0;34m=\u001b[0m \u001b[0mself\u001b[0m\u001b[0;34m.\u001b[0m\u001b[0mtransform\u001b[0m\u001b[0;34m(\u001b[0m\u001b[0msample\u001b[0m\u001b[0;34m)\u001b[0m\u001b[0;34m\u001b[0m\u001b[0;34m\u001b[0m\u001b[0m\n\u001b[0m\u001b[1;32m    235\u001b[0m         \u001b[0;32mif\u001b[0m \u001b[0mself\u001b[0m\u001b[0;34m.\u001b[0m\u001b[0mtarget_transform\u001b[0m \u001b[0;32mis\u001b[0m \u001b[0;32mnot\u001b[0m \u001b[0;32mNone\u001b[0m\u001b[0;34m:\u001b[0m\u001b[0;34m\u001b[0m\u001b[0;34m\u001b[0m\u001b[0m\n\u001b[1;32m    236\u001b[0m             \u001b[0mtarget\u001b[0m \u001b[0;34m=\u001b[0m \u001b[0mself\u001b[0m\u001b[0;34m.\u001b[0m\u001b[0mtarget_transform\u001b[0m\u001b[0;34m(\u001b[0m\u001b[0mtarget\u001b[0m\u001b[0;34m)\u001b[0m\u001b[0;34m\u001b[0m\u001b[0;34m\u001b[0m\u001b[0m\n",
            "\u001b[0;32m/usr/local/lib/python3.7/dist-packages/torchvision/transforms/transforms.py\u001b[0m in \u001b[0;36m__call__\u001b[0;34m(self, img)\u001b[0m\n\u001b[1;32m     59\u001b[0m     \u001b[0;32mdef\u001b[0m \u001b[0m__call__\u001b[0m\u001b[0;34m(\u001b[0m\u001b[0mself\u001b[0m\u001b[0;34m,\u001b[0m \u001b[0mimg\u001b[0m\u001b[0;34m)\u001b[0m\u001b[0;34m:\u001b[0m\u001b[0;34m\u001b[0m\u001b[0;34m\u001b[0m\u001b[0m\n\u001b[1;32m     60\u001b[0m         \u001b[0;32mfor\u001b[0m \u001b[0mt\u001b[0m \u001b[0;32min\u001b[0m \u001b[0mself\u001b[0m\u001b[0;34m.\u001b[0m\u001b[0mtransforms\u001b[0m\u001b[0;34m:\u001b[0m\u001b[0;34m\u001b[0m\u001b[0;34m\u001b[0m\u001b[0m\n\u001b[0;32m---> 61\u001b[0;31m             \u001b[0mimg\u001b[0m \u001b[0;34m=\u001b[0m \u001b[0mt\u001b[0m\u001b[0;34m(\u001b[0m\u001b[0mimg\u001b[0m\u001b[0;34m)\u001b[0m\u001b[0;34m\u001b[0m\u001b[0;34m\u001b[0m\u001b[0m\n\u001b[0m\u001b[1;32m     62\u001b[0m         \u001b[0;32mreturn\u001b[0m \u001b[0mimg\u001b[0m\u001b[0;34m\u001b[0m\u001b[0;34m\u001b[0m\u001b[0m\n\u001b[1;32m     63\u001b[0m \u001b[0;34m\u001b[0m\u001b[0m\n",
            "\u001b[0;32m/usr/local/lib/python3.7/dist-packages/torch/nn/modules/module.py\u001b[0m in \u001b[0;36m_call_impl\u001b[0;34m(self, *input, **kwargs)\u001b[0m\n\u001b[1;32m   1100\u001b[0m         if not (self._backward_hooks or self._forward_hooks or self._forward_pre_hooks or _global_backward_hooks\n\u001b[1;32m   1101\u001b[0m                 or _global_forward_hooks or _global_forward_pre_hooks):\n\u001b[0;32m-> 1102\u001b[0;31m             \u001b[0;32mreturn\u001b[0m \u001b[0mforward_call\u001b[0m\u001b[0;34m(\u001b[0m\u001b[0;34m*\u001b[0m\u001b[0minput\u001b[0m\u001b[0;34m,\u001b[0m \u001b[0;34m**\u001b[0m\u001b[0mkwargs\u001b[0m\u001b[0;34m)\u001b[0m\u001b[0;34m\u001b[0m\u001b[0;34m\u001b[0m\u001b[0m\n\u001b[0m\u001b[1;32m   1103\u001b[0m         \u001b[0;31m# Do not call functions when jit is used\u001b[0m\u001b[0;34m\u001b[0m\u001b[0;34m\u001b[0m\u001b[0;34m\u001b[0m\u001b[0m\n\u001b[1;32m   1104\u001b[0m         \u001b[0mfull_backward_hooks\u001b[0m\u001b[0;34m,\u001b[0m \u001b[0mnon_full_backward_hooks\u001b[0m \u001b[0;34m=\u001b[0m \u001b[0;34m[\u001b[0m\u001b[0;34m]\u001b[0m\u001b[0;34m,\u001b[0m \u001b[0;34m[\u001b[0m\u001b[0;34m]\u001b[0m\u001b[0;34m\u001b[0m\u001b[0;34m\u001b[0m\u001b[0m\n",
            "\u001b[0;32m/usr/local/lib/python3.7/dist-packages/torchvision/transforms/transforms.py\u001b[0m in \u001b[0;36mforward\u001b[0;34m(self, img)\u001b[0m\n\u001b[1;32m    494\u001b[0m             \u001b[0;32mreturn\u001b[0m \u001b[0mimg\u001b[0m\u001b[0;34m\u001b[0m\u001b[0;34m\u001b[0m\u001b[0m\n\u001b[1;32m    495\u001b[0m         \u001b[0;32mfor\u001b[0m \u001b[0mt\u001b[0m \u001b[0;32min\u001b[0m \u001b[0mself\u001b[0m\u001b[0;34m.\u001b[0m\u001b[0mtransforms\u001b[0m\u001b[0;34m:\u001b[0m\u001b[0;34m\u001b[0m\u001b[0;34m\u001b[0m\u001b[0m\n\u001b[0;32m--> 496\u001b[0;31m             \u001b[0mimg\u001b[0m \u001b[0;34m=\u001b[0m \u001b[0mt\u001b[0m\u001b[0;34m(\u001b[0m\u001b[0mimg\u001b[0m\u001b[0;34m)\u001b[0m\u001b[0;34m\u001b[0m\u001b[0;34m\u001b[0m\u001b[0m\n\u001b[0m\u001b[1;32m    497\u001b[0m         \u001b[0;32mreturn\u001b[0m \u001b[0mimg\u001b[0m\u001b[0;34m\u001b[0m\u001b[0;34m\u001b[0m\u001b[0m\n\u001b[1;32m    498\u001b[0m \u001b[0;34m\u001b[0m\u001b[0m\n",
            "\u001b[0;32m/usr/local/lib/python3.7/dist-packages/torch/nn/modules/module.py\u001b[0m in \u001b[0;36m_call_impl\u001b[0;34m(self, *input, **kwargs)\u001b[0m\n\u001b[1;32m   1100\u001b[0m         if not (self._backward_hooks or self._forward_hooks or self._forward_pre_hooks or _global_backward_hooks\n\u001b[1;32m   1101\u001b[0m                 or _global_forward_hooks or _global_forward_pre_hooks):\n\u001b[0;32m-> 1102\u001b[0;31m             \u001b[0;32mreturn\u001b[0m \u001b[0mforward_call\u001b[0m\u001b[0;34m(\u001b[0m\u001b[0;34m*\u001b[0m\u001b[0minput\u001b[0m\u001b[0;34m,\u001b[0m \u001b[0;34m**\u001b[0m\u001b[0mkwargs\u001b[0m\u001b[0;34m)\u001b[0m\u001b[0;34m\u001b[0m\u001b[0;34m\u001b[0m\u001b[0m\n\u001b[0m\u001b[1;32m   1103\u001b[0m         \u001b[0;31m# Do not call functions when jit is used\u001b[0m\u001b[0;34m\u001b[0m\u001b[0;34m\u001b[0m\u001b[0;34m\u001b[0m\u001b[0m\n\u001b[1;32m   1104\u001b[0m         \u001b[0mfull_backward_hooks\u001b[0m\u001b[0;34m,\u001b[0m \u001b[0mnon_full_backward_hooks\u001b[0m \u001b[0;34m=\u001b[0m \u001b[0;34m[\u001b[0m\u001b[0;34m]\u001b[0m\u001b[0;34m,\u001b[0m \u001b[0;34m[\u001b[0m\u001b[0;34m]\u001b[0m\u001b[0;34m\u001b[0m\u001b[0;34m\u001b[0m\u001b[0m\n",
            "\u001b[0;32m/usr/local/lib/python3.7/dist-packages/torchvision/transforms/transforms.py\u001b[0m in \u001b[0;36mforward\u001b[0;34m(self, img)\u001b[0m\n\u001b[1;32m   1302\u001b[0m         \u001b[0mangle\u001b[0m \u001b[0;34m=\u001b[0m \u001b[0mself\u001b[0m\u001b[0;34m.\u001b[0m\u001b[0mget_params\u001b[0m\u001b[0;34m(\u001b[0m\u001b[0mself\u001b[0m\u001b[0;34m.\u001b[0m\u001b[0mdegrees\u001b[0m\u001b[0;34m)\u001b[0m\u001b[0;34m\u001b[0m\u001b[0;34m\u001b[0m\u001b[0m\n\u001b[1;32m   1303\u001b[0m \u001b[0;34m\u001b[0m\u001b[0m\n\u001b[0;32m-> 1304\u001b[0;31m         \u001b[0;32mreturn\u001b[0m \u001b[0mF\u001b[0m\u001b[0;34m.\u001b[0m\u001b[0mrotate\u001b[0m\u001b[0;34m(\u001b[0m\u001b[0mimg\u001b[0m\u001b[0;34m,\u001b[0m \u001b[0mangle\u001b[0m\u001b[0;34m,\u001b[0m \u001b[0mself\u001b[0m\u001b[0;34m.\u001b[0m\u001b[0mresample\u001b[0m\u001b[0;34m,\u001b[0m \u001b[0mself\u001b[0m\u001b[0;34m.\u001b[0m\u001b[0mexpand\u001b[0m\u001b[0;34m,\u001b[0m \u001b[0mself\u001b[0m\u001b[0;34m.\u001b[0m\u001b[0mcenter\u001b[0m\u001b[0;34m,\u001b[0m \u001b[0mfill\u001b[0m\u001b[0;34m)\u001b[0m\u001b[0;34m\u001b[0m\u001b[0;34m\u001b[0m\u001b[0m\n\u001b[0m\u001b[1;32m   1305\u001b[0m \u001b[0;34m\u001b[0m\u001b[0m\n\u001b[1;32m   1306\u001b[0m     \u001b[0;32mdef\u001b[0m \u001b[0m__repr__\u001b[0m\u001b[0;34m(\u001b[0m\u001b[0mself\u001b[0m\u001b[0;34m)\u001b[0m\u001b[0;34m:\u001b[0m\u001b[0;34m\u001b[0m\u001b[0;34m\u001b[0m\u001b[0m\n",
            "\u001b[0;32m/usr/local/lib/python3.7/dist-packages/torchvision/transforms/functional.py\u001b[0m in \u001b[0;36mrotate\u001b[0;34m(img, angle, interpolation, expand, center, fill, resample)\u001b[0m\n\u001b[1;32m   1017\u001b[0m     \u001b[0;31m# we need to set -angle.\u001b[0m\u001b[0;34m\u001b[0m\u001b[0;34m\u001b[0m\u001b[0;34m\u001b[0m\u001b[0m\n\u001b[1;32m   1018\u001b[0m     \u001b[0mmatrix\u001b[0m \u001b[0;34m=\u001b[0m \u001b[0m_get_inverse_affine_matrix\u001b[0m\u001b[0;34m(\u001b[0m\u001b[0mcenter_f\u001b[0m\u001b[0;34m,\u001b[0m \u001b[0;34m-\u001b[0m\u001b[0mangle\u001b[0m\u001b[0;34m,\u001b[0m \u001b[0;34m[\u001b[0m\u001b[0;36m0.0\u001b[0m\u001b[0;34m,\u001b[0m \u001b[0;36m0.0\u001b[0m\u001b[0;34m]\u001b[0m\u001b[0;34m,\u001b[0m \u001b[0;36m1.0\u001b[0m\u001b[0;34m,\u001b[0m \u001b[0;34m[\u001b[0m\u001b[0;36m0.0\u001b[0m\u001b[0;34m,\u001b[0m \u001b[0;36m0.0\u001b[0m\u001b[0;34m]\u001b[0m\u001b[0;34m)\u001b[0m\u001b[0;34m\u001b[0m\u001b[0;34m\u001b[0m\u001b[0m\n\u001b[0;32m-> 1019\u001b[0;31m     \u001b[0;32mreturn\u001b[0m \u001b[0mF_t\u001b[0m\u001b[0;34m.\u001b[0m\u001b[0mrotate\u001b[0m\u001b[0;34m(\u001b[0m\u001b[0mimg\u001b[0m\u001b[0;34m,\u001b[0m \u001b[0mmatrix\u001b[0m\u001b[0;34m=\u001b[0m\u001b[0mmatrix\u001b[0m\u001b[0;34m,\u001b[0m \u001b[0minterpolation\u001b[0m\u001b[0;34m=\u001b[0m\u001b[0minterpolation\u001b[0m\u001b[0;34m.\u001b[0m\u001b[0mvalue\u001b[0m\u001b[0;34m,\u001b[0m \u001b[0mexpand\u001b[0m\u001b[0;34m=\u001b[0m\u001b[0mexpand\u001b[0m\u001b[0;34m,\u001b[0m \u001b[0mfill\u001b[0m\u001b[0;34m=\u001b[0m\u001b[0mfill\u001b[0m\u001b[0;34m)\u001b[0m\u001b[0;34m\u001b[0m\u001b[0;34m\u001b[0m\u001b[0m\n\u001b[0m\u001b[1;32m   1020\u001b[0m \u001b[0;34m\u001b[0m\u001b[0m\n\u001b[1;32m   1021\u001b[0m \u001b[0;34m\u001b[0m\u001b[0m\n",
            "\u001b[0;32m/usr/local/lib/python3.7/dist-packages/torchvision/transforms/functional_tensor.py\u001b[0m in \u001b[0;36mrotate\u001b[0;34m(img, matrix, interpolation, expand, fill)\u001b[0m\n\u001b[1;32m    736\u001b[0m     \u001b[0mgrid\u001b[0m \u001b[0;34m=\u001b[0m \u001b[0m_gen_affine_grid\u001b[0m\u001b[0;34m(\u001b[0m\u001b[0mtheta\u001b[0m\u001b[0;34m,\u001b[0m \u001b[0mw\u001b[0m\u001b[0;34m=\u001b[0m\u001b[0mw\u001b[0m\u001b[0;34m,\u001b[0m \u001b[0mh\u001b[0m\u001b[0;34m=\u001b[0m\u001b[0mh\u001b[0m\u001b[0;34m,\u001b[0m \u001b[0mow\u001b[0m\u001b[0;34m=\u001b[0m\u001b[0mow\u001b[0m\u001b[0;34m,\u001b[0m \u001b[0moh\u001b[0m\u001b[0;34m=\u001b[0m\u001b[0moh\u001b[0m\u001b[0;34m)\u001b[0m\u001b[0;34m\u001b[0m\u001b[0;34m\u001b[0m\u001b[0m\n\u001b[1;32m    737\u001b[0m \u001b[0;34m\u001b[0m\u001b[0m\n\u001b[0;32m--> 738\u001b[0;31m     \u001b[0;32mreturn\u001b[0m \u001b[0m_apply_grid_transform\u001b[0m\u001b[0;34m(\u001b[0m\u001b[0mimg\u001b[0m\u001b[0;34m,\u001b[0m \u001b[0mgrid\u001b[0m\u001b[0;34m,\u001b[0m \u001b[0minterpolation\u001b[0m\u001b[0;34m,\u001b[0m \u001b[0mfill\u001b[0m\u001b[0;34m=\u001b[0m\u001b[0mfill\u001b[0m\u001b[0;34m)\u001b[0m\u001b[0;34m\u001b[0m\u001b[0;34m\u001b[0m\u001b[0m\n\u001b[0m\u001b[1;32m    739\u001b[0m \u001b[0;34m\u001b[0m\u001b[0m\n\u001b[1;32m    740\u001b[0m \u001b[0;34m\u001b[0m\u001b[0m\n",
            "\u001b[0;32m/usr/local/lib/python3.7/dist-packages/torchvision/transforms/functional_tensor.py\u001b[0m in \u001b[0;36m_apply_grid_transform\u001b[0;34m(img, grid, mode, fill)\u001b[0m\n\u001b[1;32m    645\u001b[0m         \u001b[0mimg\u001b[0m \u001b[0;34m=\u001b[0m \u001b[0mtorch\u001b[0m\u001b[0;34m.\u001b[0m\u001b[0mcat\u001b[0m\u001b[0;34m(\u001b[0m\u001b[0;34m(\u001b[0m\u001b[0mimg\u001b[0m\u001b[0;34m,\u001b[0m \u001b[0mdummy\u001b[0m\u001b[0;34m)\u001b[0m\u001b[0;34m,\u001b[0m \u001b[0mdim\u001b[0m\u001b[0;34m=\u001b[0m\u001b[0;36m1\u001b[0m\u001b[0;34m)\u001b[0m\u001b[0;34m\u001b[0m\u001b[0;34m\u001b[0m\u001b[0m\n\u001b[1;32m    646\u001b[0m \u001b[0;34m\u001b[0m\u001b[0m\n\u001b[0;32m--> 647\u001b[0;31m     \u001b[0mimg\u001b[0m \u001b[0;34m=\u001b[0m \u001b[0mgrid_sample\u001b[0m\u001b[0;34m(\u001b[0m\u001b[0mimg\u001b[0m\u001b[0;34m,\u001b[0m \u001b[0mgrid\u001b[0m\u001b[0;34m,\u001b[0m \u001b[0mmode\u001b[0m\u001b[0;34m=\u001b[0m\u001b[0mmode\u001b[0m\u001b[0;34m,\u001b[0m \u001b[0mpadding_mode\u001b[0m\u001b[0;34m=\u001b[0m\u001b[0;34m\"zeros\"\u001b[0m\u001b[0;34m,\u001b[0m \u001b[0malign_corners\u001b[0m\u001b[0;34m=\u001b[0m\u001b[0;32mFalse\u001b[0m\u001b[0;34m)\u001b[0m\u001b[0;34m\u001b[0m\u001b[0;34m\u001b[0m\u001b[0m\n\u001b[0m\u001b[1;32m    648\u001b[0m \u001b[0;34m\u001b[0m\u001b[0m\n\u001b[1;32m    649\u001b[0m     \u001b[0;31m# Fill with required color\u001b[0m\u001b[0;34m\u001b[0m\u001b[0;34m\u001b[0m\u001b[0;34m\u001b[0m\u001b[0m\n",
            "\u001b[0;32m/usr/local/lib/python3.7/dist-packages/torch/nn/functional.py\u001b[0m in \u001b[0;36mgrid_sample\u001b[0;34m(input, grid, mode, padding_mode, align_corners)\u001b[0m\n\u001b[1;32m   4009\u001b[0m         \u001b[0malign_corners\u001b[0m \u001b[0;34m=\u001b[0m \u001b[0;32mFalse\u001b[0m\u001b[0;34m\u001b[0m\u001b[0;34m\u001b[0m\u001b[0m\n\u001b[1;32m   4010\u001b[0m \u001b[0;34m\u001b[0m\u001b[0m\n\u001b[0;32m-> 4011\u001b[0;31m     \u001b[0;32mreturn\u001b[0m \u001b[0mtorch\u001b[0m\u001b[0;34m.\u001b[0m\u001b[0mgrid_sampler\u001b[0m\u001b[0;34m(\u001b[0m\u001b[0minput\u001b[0m\u001b[0;34m,\u001b[0m \u001b[0mgrid\u001b[0m\u001b[0;34m,\u001b[0m \u001b[0mmode_enum\u001b[0m\u001b[0;34m,\u001b[0m \u001b[0mpadding_mode_enum\u001b[0m\u001b[0;34m,\u001b[0m \u001b[0malign_corners\u001b[0m\u001b[0;34m)\u001b[0m\u001b[0;34m\u001b[0m\u001b[0;34m\u001b[0m\u001b[0m\n\u001b[0m\u001b[1;32m   4012\u001b[0m \u001b[0;34m\u001b[0m\u001b[0m\n\u001b[1;32m   4013\u001b[0m \u001b[0;34m\u001b[0m\u001b[0m\n",
            "\u001b[0;31mKeyboardInterrupt\u001b[0m: "
          ]
        }
      ]
    },
    {
      "cell_type": "code",
      "source": [
        "checkpoint = torch.load('/content/drive/MyDrive/CarsModels/best_model.pt')\n",
        "optimizer = optim.Adam(model.parameters(), lr=0.001, weight_decay=1e-4)\n",
        "\n",
        "model.load_state_dict(checkpoint['Model_state_dict'])\n",
        "optimizer.load_state_dict(checkpoint['Optimizer_state_dict'])\n",
        "\n",
        "contTrain = {\n",
        "    'train_accs': checkpoint['Train_accs'],\n",
        "    'val_accs': checkpoint['Val_accs'],\n",
        "    'num_ep': checkpoint['Num_epoch']\n",
        "}\n",
        "train_acc, val_acc = myFunc.train_model(model, optimizer, trainLoader, validLoader, 30, device, \n",
        "                                 savePath='/content/drive/MyDrive/CarsModels', continueTraining=contTrain)"
      ],
      "metadata": {
        "colab": {
          "base_uri": "https://localhost:8080/"
        },
        "id": "UCzT4gLiI65n",
        "outputId": "5f8d4ed0-1026-415f-d338-de465ee94158"
      },
      "execution_count": 99,
      "outputs": [
        {
          "output_type": "stream",
          "name": "stdout",
          "text": [
            "Continue training from 25 epoch\n",
            "Start 25 epoch\n",
            "Got 228 / 3232 correct (7.05) in train\n",
            "Got 257 / 4020 correct (6.39) in validation\n",
            "Start 26 epoch\n",
            "Got 315 / 3232 correct (9.75) in train\n",
            "Got 485 / 4020 correct (12.06) in validation\n",
            "Goten new best val accuracy. Save new best model\n",
            "Start 27 epoch\n",
            "Got 307 / 3232 correct (9.50) in train\n",
            "Got 381 / 4020 correct (9.48) in validation\n",
            "Start 28 epoch\n",
            "Got 379 / 3232 correct (11.73) in train\n",
            "Got 472 / 4020 correct (11.74) in validation\n",
            "Start 29 epoch\n",
            "Got 410 / 3232 correct (12.69) in train\n",
            "Got 499 / 4020 correct (12.41) in validation\n",
            "Goten new best val accuracy. Save new best model\n"
          ]
        }
      ]
    },
    {
      "cell_type": "code",
      "source": [
        "checkpoint = torch.load('/content/drive/MyDrive/CarsModels/best_model.pt')\n",
        "optimizer = optim.Adam(model.parameters(), lr=0.001, weight_decay=1e-4)\n",
        "\n",
        "model.load_state_dict(checkpoint['Model_state_dict'])\n",
        "optimizer.load_state_dict(checkpoint['Optimizer_state_dict'])\n",
        "\n",
        "contTrain = {\n",
        "    'train_accs': checkpoint['Train_accs'],\n",
        "    'val_accs': checkpoint['Val_accs'],\n",
        "    'num_ep': checkpoint['Num_epoch']\n",
        "}\n",
        "train_acc, val_acc = myFunc.train_model(model, optimizer, trainLoader, validLoader, 40, device, \n",
        "                                 savePath='/content/drive/MyDrive/CarsModels', continueTraining=contTrain)"
      ],
      "metadata": {
        "colab": {
          "base_uri": "https://localhost:8080/"
        },
        "id": "uSUGIGGmMm_u",
        "outputId": "8c22f09f-e5be-4cb8-da2a-02e2d5ececec"
      },
      "execution_count": 100,
      "outputs": [
        {
          "output_type": "stream",
          "name": "stdout",
          "text": [
            "Continue training from 30 epoch\n",
            "Start 30 epoch\n",
            "Got 333 / 3232 correct (10.30) in train\n",
            "Got 352 / 4020 correct (8.76) in validation\n",
            "Start 31 epoch\n",
            "Got 552 / 3232 correct (17.08) in train\n",
            "Got 551 / 4020 correct (13.71) in validation\n",
            "Goten new best val accuracy. Save new best model\n",
            "Start 32 epoch\n",
            "Got 523 / 3232 correct (16.18) in train\n",
            "Got 526 / 4020 correct (13.08) in validation\n",
            "Start 33 epoch\n",
            "Got 582 / 3232 correct (18.01) in train\n",
            "Got 594 / 4020 correct (14.78) in validation\n",
            "Goten new best val accuracy. Save new best model\n",
            "Start 34 epoch\n",
            "Got 592 / 3232 correct (18.32) in train\n",
            "Got 547 / 4020 correct (13.61) in validation\n",
            "Start 35 epoch\n",
            "Got 624 / 3232 correct (19.31) in train\n",
            "Got 799 / 4020 correct (19.88) in validation\n",
            "Goten new best val accuracy. Save new best model\n",
            "Start 36 epoch\n",
            "Got 672 / 3232 correct (20.79) in train\n",
            "Got 575 / 4020 correct (14.30) in validation\n",
            "Start 37 epoch\n",
            "Got 687 / 3232 correct (21.26) in train\n",
            "Got 556 / 4020 correct (13.83) in validation\n",
            "Start 38 epoch\n",
            "Got 804 / 3232 correct (24.88) in train\n",
            "Got 786 / 4020 correct (19.55) in validation\n",
            "Start 39 epoch\n",
            "Got 936 / 3232 correct (28.96) in train\n",
            "Got 1014 / 4020 correct (25.22) in validation\n",
            "Goten new best val accuracy. Save new best model\n"
          ]
        }
      ]
    },
    {
      "cell_type": "code",
      "source": [
        "checkpoint = torch.load('/content/drive/MyDrive/CarsModels/model.pt')\n",
        "\n",
        "model.load_state_dict(checkpoint['Model_state_dict'])\n",
        "optimizer.load_state_dict(checkpoint['Optimizer_state_dict'])\n",
        "\n",
        "contTrain = {\n",
        "    'train_accs': checkpoint['Train_accs'],\n",
        "    'val_accs': checkpoint['Val_accs'],\n",
        "    'num_ep': checkpoint['Num_epoch']\n",
        "}\n",
        "train_acc, val_acc = myFunc.train_model(model, optimizer, trainLoader, validLoader, 50, device, \n",
        "                                 savePath='/content/drive/MyDrive/CarsModels', continueTraining=contTrain)"
      ],
      "metadata": {
        "colab": {
          "base_uri": "https://localhost:8080/"
        },
        "id": "b9Kw9j-xS121",
        "outputId": "53fc7914-a4ef-4952-f290-64ca5351312d"
      },
      "execution_count": 101,
      "outputs": [
        {
          "output_type": "stream",
          "name": "stdout",
          "text": [
            "Continue training from 40 epoch\n",
            "Start 40 epoch\n",
            "Got 942 / 3232 correct (29.15) in train\n",
            "Got 858 / 4020 correct (21.34) in validation\n",
            "Start 41 epoch\n",
            "Got 951 / 3232 correct (29.42) in train\n",
            "Got 1007 / 4020 correct (25.05) in validation\n",
            "Start 42 epoch\n",
            "Got 952 / 3232 correct (29.46) in train\n",
            "Got 996 / 4020 correct (24.78) in validation\n",
            "Start 43 epoch\n",
            "Got 1132 / 3232 correct (35.02) in train\n",
            "Got 1094 / 4020 correct (27.21) in validation\n",
            "Goten new best val accuracy. Save new best model\n",
            "Start 44 epoch\n",
            "Got 1080 / 3232 correct (33.42) in train\n",
            "Got 1041 / 4020 correct (25.90) in validation\n",
            "Start 45 epoch\n",
            "Got 1114 / 3232 correct (34.47) in train\n",
            "Got 909 / 4020 correct (22.61) in validation\n",
            "Start 46 epoch\n",
            "Got 1201 / 3232 correct (37.16) in train\n",
            "Got 1344 / 4020 correct (33.43) in validation\n",
            "Goten new best val accuracy. Save new best model\n",
            "Start 47 epoch\n",
            "Got 1161 / 3232 correct (35.92) in train\n",
            "Got 1343 / 4020 correct (33.41) in validation\n",
            "Start 48 epoch\n",
            "Got 1372 / 3232 correct (42.45) in train\n",
            "Got 1300 / 4020 correct (32.34) in validation\n",
            "Start 49 epoch\n",
            "Got 1267 / 3232 correct (39.20) in train\n",
            "Got 1148 / 4020 correct (28.56) in validation\n"
          ]
        }
      ]
    },
    {
      "cell_type": "code",
      "source": [
        "# Continue later"
      ],
      "metadata": {
        "id": "xlD9Yih0Zfle"
      },
      "execution_count": 102,
      "outputs": []
    }
  ]
}